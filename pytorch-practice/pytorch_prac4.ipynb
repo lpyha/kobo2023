{
 "cells": [
  {
   "attachments": {},
   "cell_type": "markdown",
   "metadata": {},
   "source": [
    "## ``torch.autograd``による自動微分法\n",
    "ニューラルネットワークを学習する際、最も頻繁に使用されるアルゴリズムが逆伝播です。このアルゴリズムでは、パラメータ（モデルの重み）は、与えられたパラメータに関する損失関数の勾配に従って調整されます。損失関数は、ニューラルネットワークが生成する期待出力と実際の出力の差を計算する。目標は、損失関数の結果を可能な限りゼロに近づけることです。アルゴリズムは、ネットワーク網を後方から走査して重みとバイアスを調整し、モデルを再学習させます。これが逆伝播と呼ばれる所以です。このように、損失を0に近づけるために時間をかけてモデルを再学習させるバック＆フォワードのプロセスを、勾配降下と呼びます。\n",
    "\n",
    "その勾配を計算するために、PyTorchにはtorch.autogradという微分エンジンが組み込まれています。これは、任意の計算グラフに対する勾配の自動計算をサポートします。\n"
   ]
  },
  {
   "cell_type": "code",
   "execution_count": 2,
   "metadata": {},
   "outputs": [
    {
     "name": "stdout",
     "output_type": "stream",
     "text": [
      "Gradient function for z = <AddBackward0 object at 0x000001D0EF52D1E0>\n",
      "Gradient function for loss = <BinaryCrossEntropyWithLogitsBackward0 object at 0x000001D0EF52E860>\n"
     ]
    }
   ],
   "source": [
    "import torch\n",
    "\n",
    "x = torch.ones(5)   # input tensor\n",
    "y = torch.zeros(3)  # expected output\n",
    "w = torch.randn(5,3, requires_grad=True)    # weight\n",
    "b = torch.randn(3, requires_grad=True)      # bias\n",
    "z = torch.matmul(x, w) + b\n",
    "loss = torch.nn.functional.binary_cross_entropy_with_logits(z, y)\n",
    "print('Gradient function for z =',z.grad_fn)\n",
    "print('Gradient function for loss =', loss.grad_fn)"
   ]
  },
  {
   "attachments": {},
   "cell_type": "markdown",
   "metadata": {},
   "source": [
    "## 勾配の計算 Computing gradients\n",
    "ニューラルネットワークのパラメーターの重みを最適化するために、パラメーターに関する損失関数の導関数を計算する必要がある。これらの導関数を計算するために、loss.backward()を呼び出し、w.gradとb.gradから値を取得する\n",
    "\n",
    "requires_gradプロパティがTrueに設定されているノードに対してのみ、gradプロパティを取得できます。パフォーマンス上の理由から、backwardを使った勾配計算は、与えられたグラフに対して一度しか実行できません。同じグラフで何度もbackwardを呼び出す必要がある場合は、backward呼び出しにretain_graph=Trueを渡す必要があります。"
   ]
  },
  {
   "cell_type": "code",
   "execution_count": 3,
   "metadata": {},
   "outputs": [
    {
     "name": "stdout",
     "output_type": "stream",
     "text": [
      "tensor([[0.1290, 0.0885, 0.0061],\n",
      "        [0.1290, 0.0885, 0.0061],\n",
      "        [0.1290, 0.0885, 0.0061],\n",
      "        [0.1290, 0.0885, 0.0061],\n",
      "        [0.1290, 0.0885, 0.0061]])\n",
      "tensor([0.1290, 0.0885, 0.0061])\n"
     ]
    }
   ],
   "source": [
    "loss.backward()\n",
    "print(w.grad)\n",
    "print(b.grad)"
   ]
  },
  {
   "attachments": {},
   "cell_type": "markdown",
   "metadata": {},
   "source": [
    "## 勾配追跡の無効\n",
    "デフォルトでは、requires_grad=Trueのテンソルは、計算履歴を追跡し、勾配計算をサポートします。しかし、その必要がない場合もあります。例えば、モデルを訓練して、それを入力データに適用したい場合、つまり、ネットワークを通して前方計算を行いたいだけです。計算コードを `torch.no_grad()` ブロックで囲む、`deatach()`メソッドでトラッキング計算を停止することができます："
   ]
  },
  {
   "cell_type": "code",
   "execution_count": 4,
   "metadata": {},
   "outputs": [
    {
     "name": "stdout",
     "output_type": "stream",
     "text": [
      "True\n",
      "False\n"
     ]
    }
   ],
   "source": [
    "print(z.requires_grad)\n",
    "\n",
    "# z_det = z.detach()\n",
    "\n",
    "with torch.no_grad():\n",
    "    z = torch.matmul(x, w) + b\n",
    "    \n",
    "print(z.requires_grad)"
   ]
  },
  {
   "attachments": {},
   "cell_type": "markdown",
   "metadata": {},
   "source": [
    "### 勾配追跡を無効にしたい理由\n",
    "- ニューラルネットワークのいくつかのパラメータを凍結したパラメータとしてマークするためです。これは事前に訓練されたネットワークの微調整を行う際に非常によくあるシナリオです。\n",
    "- 勾配を追跡しないテンソルでの計算がより効率的であるため、フォワードパスのみを行う場合に計算を高速化するため。"
   ]
  },
  {
   "cell_type": "code",
   "execution_count": 5,
   "metadata": {},
   "outputs": [
    {
     "name": "stdout",
     "output_type": "stream",
     "text": [
      "First call\n",
      " tensor([[4., 2., 2., 2., 2.],\n",
      "        [2., 4., 2., 2., 2.],\n",
      "        [2., 2., 4., 2., 2.],\n",
      "        [2., 2., 2., 4., 2.],\n",
      "        [2., 2., 2., 2., 4.]])\n",
      "\n",
      "Second call\n",
      " tensor([[8., 4., 4., 4., 4.],\n",
      "        [4., 8., 4., 4., 4.],\n",
      "        [4., 4., 8., 4., 4.],\n",
      "        [4., 4., 4., 8., 4.],\n",
      "        [4., 4., 4., 4., 8.]])\n",
      "\n",
      "Call after zeroing gradients\n",
      " tensor([[4., 2., 2., 2., 2.],\n",
      "        [2., 4., 2., 2., 2.],\n",
      "        [2., 2., 4., 2., 2.],\n",
      "        [2., 2., 2., 4., 2.],\n",
      "        [2., 2., 2., 2., 4.]])\n"
     ]
    }
   ],
   "source": [
    "inp = torch.eye(5, requires_grad=True)\n",
    "out = (inp + 1).pow(2)\n",
    "out.backward(torch.ones_like(inp), retain_graph=True)\n",
    "print(\"First call\\n\", inp.grad)\n",
    "out.backward(torch.ones_like(inp), retain_graph=True)\n",
    "print(\"\\nSecond call\\n\", inp.grad)\n",
    "inp.grad.zero_()\n",
    "out.backward(torch.ones_like(inp), retain_graph=True)\n",
    "print(\"\\nCall after zeroing gradients\\n\", inp.grad)"
   ]
  }
 ],
 "metadata": {
  "kernelspec": {
   "display_name": "Deeplearning",
   "language": "python",
   "name": "python3"
  },
  "language_info": {
   "codemirror_mode": {
    "name": "ipython",
    "version": 3
   },
   "file_extension": ".py",
   "mimetype": "text/x-python",
   "name": "python",
   "nbconvert_exporter": "python",
   "pygments_lexer": "ipython3",
   "version": "3.10.11"
  },
  "orig_nbformat": 4
 },
 "nbformat": 4,
 "nbformat_minor": 2
}
