{
 "cells": [
  {
   "attachments": {},
   "cell_type": "markdown",
   "metadata": {},
   "source": [
    "# What is a neural network\n",
    "ニューラルネットワークは、層によって接続されたニューロンの集合体である。各ニューロンは小さな計算ユニットで、簡単な計算を行い、問題をまとめて解決します。それらは層で構成されています。層には、入力層、隠れ層、出力層の3種類があります。各層は、入力層を除いて、多数のニューロンを含んでいます。ニューラルネットワークは、人間の脳が情報を処理する方法を模倣しています。\n",
    "\n",
    "以下のセクションでは、FashionMNISTデータセットの画像を分類するためのニューラルネットワークを構築します。"
   ]
  },
  {
   "cell_type": "code",
   "execution_count": null,
   "metadata": {},
   "outputs": [],
   "source": [
    "import os\n",
    "import torch\n",
    "from torch import nn\n",
    "from torch.utils.data import DataLoader\n",
    "from torchvision import datasets, transforms"
   ]
  },
  {
   "attachments": {},
   "cell_type": "markdown",
   "metadata": {},
   "source": [
    "# Get a hardware device for training\n",
    "GPUのようなハードウェアアクセラレータが利用できるのであれば、その上でモデルをトレーニングできるようにしたい。torch.cudaが利用可能かどうかを確認しましょう。そうでない場合は、引き続きCPUを使用します。"
   ]
  },
  {
   "cell_type": "code",
   "execution_count": null,
   "metadata": {},
   "outputs": [],
   "source": [
    "device = 'cuda' if torch.cuda.is_available() else 'cpu'\n",
    "print('Using {} device'.format(device))"
   ]
  },
  {
   "attachments": {},
   "cell_type": "markdown",
   "metadata": {},
   "source": [
    "# Define the class\n",
    "nn.Moduleをサブクラス化してニューラルネットワークを定義し、__init__でニューラルネットワークのレイヤーを初期化します。nn.Moduleのサブクラスはすべて、forwardメソッドで入力データに対する操作を実装しています。\n",
    "\n",
    "我々のニューラルネットワークは以下のように構成されている：\n",
    "\n",
    "- 入力層は28x28、つまり784の特徴量/画素を持つ。\n",
    "- 最初の線形モジュールは、入力された784個の特徴量を受け取り、それを512個の特徴量を持つ隠れ層に変換します。\n",
    "- 変換の際にはReLU活性化関数が適用される\n",
    "- 2番目の線形モジュールは、最初の隠れ層から512個の特徴を入力として受け取り、512個の特徴を持つ次の隠れ層へ変換します。\n",
    "- 変換の際にはReLU活性化関数が適用されます。\n",
    "- 第3の線形モジュールは、第2隠れ層から512個の特徴を入力とし、クラス数である10で出力層に変換します。\n",
    "- 変換の際にはReLU活性化関数が適用されます。\n",
    "\n",
    "Our neural network are composed of the following:\n",
    "- The input layer with 28x28 or 784 features/pixels.\n",
    "- The first linear module takes the input 784 features and transforms it to a hidden layer with 512 features\n",
    "- The ReLU activation function will be applied in the transformation\n",
    "- The second linear module take 512 features as input from the first hidden layer and transforms it to the next hidden layer with 512 features\n",
    "- The ReLU activation function will be applied in the transformation\n",
    "- The third linear module take 512 features as input from the second hidden layer and transforms it to the output layer with 10, which is the number of classes\n",
    "- The ReLU activation function will be applied in the transformation"
   ]
  },
  {
   "cell_type": "code",
   "execution_count": null,
   "metadata": {},
   "outputs": [],
   "source": [
    "class NeuralNetwork(nn.Module):\n",
    "    def __init__(self) -> None:\n",
    "        super(NeuralNetwork, self).__init__()\n",
    "        self.flatten = nn.Flatten()\n",
    "        self.linear_relu_stack = nn.Sequential(\n",
    "            nn.Linear(28*28, 512),\n",
    "            nn.ReLU(),\n",
    "            nn.Linear(512, 512),\n",
    "            nn.ReLU(),\n",
    "            nn.Linear(512, 10),\n",
    "            nn.ReLU()\n",
    "        )\n",
    "    \n",
    "    def forward(self, x):\n",
    "        x = self.flatten(x)\n",
    "        logits = self.linear_relu_stack(x)\n",
    "        return logits"
   ]
  },
  {
   "attachments": {},
   "cell_type": "markdown",
   "metadata": {},
   "source": [
    "NeuralNetworkのインスタンスを作成し、デバイスに移動させ、構造を出力する"
   ]
  },
  {
   "cell_type": "code",
   "execution_count": null,
   "metadata": {},
   "outputs": [],
   "source": [
    "model = NeuralNetwork().to(device)\n",
    "print(model)"
   ]
  },
  {
   "attachments": {},
   "cell_type": "markdown",
   "metadata": {},
   "source": [
    "モデルを使うには、入力データを渡します。これにより、モデルのフォワードが実行され、いくつかのバックグラウンド操作が行われます。ただし、model.forward()を直接呼び出さないでください！入力に対してモデルを呼び出すと、各クラスの生の予測値を持つ10次元のテンソルが返されます。\n",
    "\n",
    "これをnn.Softmaxのインスタンスに渡すことで、予測密度を得ることができます"
   ]
  },
  {
   "cell_type": "code",
   "execution_count": null,
   "metadata": {},
   "outputs": [],
   "source": [
    "X = torch.rand(1, 28, 28, device=device)\n",
    "logits = model(X) \n",
    "pred_probab = nn.Softmax(dim=1)(logits)\n",
    "y_pred = pred_probab.argmax(1)\n",
    "print(f\"Predicted class: {y_pred}\")"
   ]
  },
  {
   "attachments": {},
   "cell_type": "markdown",
   "metadata": {},
   "source": [
    "# Weight and Bias\n",
    "重みとバイアス\n",
    "`nn.Linear`モジュールは、ランダムに初期化された.weightとbiasを各レイヤーごとに設定し、内部でTensorsに格納する。"
   ]
  },
  {
   "cell_type": "code",
   "execution_count": null,
   "metadata": {},
   "outputs": [],
   "source": [
    "print(f\"First Linear weights: {model.linear_relu_stack[0].weight} \\n\")\n",
    "print(f\"First Linear weights: {model.linear_relu_stack[0].bias} \\n\")"
   ]
  },
  {
   "attachments": {},
   "cell_type": "markdown",
   "metadata": {},
   "source": [
    "# Model layers\n",
    "FashionMNISTモデルのレイヤーを分解してみましょう。それを説明するために、サイズ28x28の3枚の画像からなるミニバッチのサンプルを取り、それをネットワークに通すとどうなるかを見ていきます。"
   ]
  },
  {
   "cell_type": "code",
   "execution_count": null,
   "metadata": {},
   "outputs": [],
   "source": [
    "input_image = torch.rand(3,28,28)\n",
    "print(input_image.size())"
   ]
  },
  {
   "attachments": {},
   "cell_type": "markdown",
   "metadata": {},
   "source": [
    "# nn.Flatten\n",
    "nn.Flatten層を初期化して、各2D 28x28画像を784個のピクセル値からなる連続した配列に変換します（ミニバッチの次元（dim=0）は維持されます）。各ピクセルは、ニューラルネットワークの入力層に渡されます。"
   ]
  },
  {
   "cell_type": "code",
   "execution_count": null,
   "metadata": {},
   "outputs": [],
   "source": [
    "flatten = nn.Flatten()\n",
    "flat_image = flatten(input_image)\n",
    "print(flat_image.size())"
   ]
  },
  {
   "attachments": {},
   "cell_type": "markdown",
   "metadata": {},
   "source": [
    "# nn.Linear\n",
    "線形層は、保存されている重みとバイアスを使用して入力に線形変換を適用するモジュールです。入力層の各ピクセルのゲイズケール値は、計算のために隠れ層のニューロンに接続されます。変換に使われる計算式は\n",
    "\n",
    " ${{weight * input + bias}} $."
   ]
  },
  {
   "cell_type": "code",
   "execution_count": null,
   "metadata": {},
   "outputs": [],
   "source": [
    "layer1 = nn.Linear(in_features=28*28, out_features=20)\n",
    "hidden1 = layer1(flat_image)\n",
    "print(hidden1.size())"
   ]
  },
  {
   "attachments": {},
   "cell_type": "markdown",
   "metadata": {},
   "source": [
    "# nn.ReLU\n",
    "非線形活性化とは、モデルの入力と出力の間の複雑なマッピングを作成するものです。線形変換の後に適用して非線形性を導入することで、ニューラルネットワークが様々な現象を学習するのに役立ちます。このモデルでは、線形層の間にnn.ReLUを使用していますが、他にもモデルに非線形性を導入するための活性化関数が存在します。\n",
    "\n",
    "ReLU活性化関数は、線形層の計算から出力を取り出し、負の値をゼロに置き換えます。\n",
    "\n",
    "Linear output: ${ x = {weight * input + bias}} $.  \n",
    "ReLU:  $f(x)= \n",
    "\\begin{cases}\n",
    "    0, & \\text{if } x < 0\\\\\n",
    "    x, & \\text{if } x\\geq 0\\\\\n",
    "\\end{cases}\n",
    "$"
   ]
  },
  {
   "cell_type": "code",
   "execution_count": null,
   "metadata": {},
   "outputs": [],
   "source": [
    "print(f\"Before ReLU: {hidden1}\\n\\n\")\n",
    "hidden1 = nn.ReLU()(hidden1)\n",
    "print(f\"After ReLU: {hidden1}\")"
   ]
  },
  {
   "attachments": {},
   "cell_type": "markdown",
   "metadata": {},
   "source": [
    "# nn.Sequential\n",
    "nn.Sequentialは、モジュールの順序付きコンテナです。データは定義されたのと同じ順序ですべてのモジュールに渡されます。シーケンシャルコンテナを使って、seq_modulesのように素早くネットワークを組むことができます。"
   ]
  },
  {
   "cell_type": "code",
   "execution_count": null,
   "metadata": {},
   "outputs": [],
   "source": [
    "seq_modules = nn.Sequential(\n",
    "    flatten,\n",
    "    layer1,\n",
    "    nn.ReLU(),\n",
    "    nn.Linear(20, 10)\n",
    ")\n",
    "input_image = torch.rand(3,28,28)\n",
    "logits = seq_modules(input_image)"
   ]
  },
  {
   "attachments": {},
   "cell_type": "markdown",
   "metadata": {},
   "source": [
    "# nn.Softmax\n",
    "ニューラルネットワークの最後の線形層は、logits - [-infty, infty]の生値を返し、nn.Softmaxモジュールに渡される。Softmax活性化関数は、ニューラルネットワークからの出力の確率を計算するために使用されます。これは、ニューラルネットワークの出力層でのみ使用されます。dimパラメータは、結果の値の合計が1になる次元を示します。最も高い確率を持つノードが目的の出力を予測します。"
   ]
  },
  {
   "cell_type": "code",
   "execution_count": null,
   "metadata": {},
   "outputs": [],
   "source": [
    "softmax = nn.Softmax(dim=1)\n",
    "pred_probab = softmax(logits)"
   ]
  },
  {
   "attachments": {},
   "cell_type": "markdown",
   "metadata": {},
   "source": [
    "# Model parameter\n",
    "ニューラルネットワークの多くの層はパラメータ化されており、学習中に最適化される重みとバイアスが関連付けられています。nn.Moduleをサブクラス化すると、モデルオブジェクト内で定義されたすべてのフィールドが自動的に追跡され、モデルのparameters()やnamed_parameters()メソッドを使用してすべてのパラメータにアクセスできるようになりま\n",
    "\n",
    "この例では、各パラメーターに対して反復処理を行い、そのサイズと値のプレビューを表示しています。"
   ]
  },
  {
   "cell_type": "code",
   "execution_count": null,
   "metadata": {},
   "outputs": [],
   "source": [
    "print(\"Model structure: \", model, \"\\n\\n\")\n",
    "\n",
    "for name, param in model.named_parameters():\n",
    "    print(f\"Layer: {name} | Size: {param.size()} | Values : {param[:2]} \\n\")"
   ]
  }
 ],
 "metadata": {
  "kernelspec": {
   "display_name": "Deeplearning",
   "language": "python",
   "name": "python3"
  },
  "language_info": {
   "codemirror_mode": {
    "name": "ipython",
    "version": 3
   },
   "file_extension": ".py",
   "mimetype": "text/x-python",
   "name": "python",
   "nbconvert_exporter": "python",
   "pygments_lexer": "ipython3",
   "version": "3.10.11"
  },
  "orig_nbformat": 4
 },
 "nbformat": 4,
 "nbformat_minor": 2
}
