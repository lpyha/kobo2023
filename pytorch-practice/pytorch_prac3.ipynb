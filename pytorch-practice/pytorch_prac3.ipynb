{
 "cells": [
  {
   "attachments": {},
   "cell_type": "markdown",
   "metadata": {},
   "source": [
    "# What is a neural network\n",
    "ニューラルネットワークは、層によって接続されたニューロンの集合体である。各ニューロンは小さな計算ユニットで、簡単な計算を行い、問題をまとめて解決します。それらは層で構成されています。層には、入力層、隠れ層、出力層の3種類があります。各層は、入力層を除いて、多数のニューロンを含んでいます。ニューラルネットワークは、人間の脳が情報を処理する方法を模倣しています。\n",
    "\n",
    "以下のセクションでは、FashionMNISTデータセットの画像を分類するためのニューラルネットワークを構築します。"
   ]
  },
  {
   "cell_type": "code",
   "execution_count": 1,
   "metadata": {},
   "outputs": [],
   "source": [
    "import os\n",
    "import torch\n",
    "from torch import nn\n",
    "from torch.utils.data import DataLoader\n",
    "from torchvision import datasets, transforms"
   ]
  },
  {
   "attachments": {},
   "cell_type": "markdown",
   "metadata": {},
   "source": [
    "# Get a hardware device for training\n",
    "GPUのようなハードウェアアクセラレータが利用できるのであれば、その上でモデルをトレーニングできるようにしたい。torch.cudaが利用可能かどうかを確認しましょう。そうでない場合は、引き続きCPUを使用します。"
   ]
  },
  {
   "cell_type": "code",
   "execution_count": 2,
   "metadata": {},
   "outputs": [
    {
     "name": "stdout",
     "output_type": "stream",
     "text": [
      "Using cpu device\n"
     ]
    }
   ],
   "source": [
    "device = 'cuda' if torch.cuda.is_available() else 'cpu'\n",
    "print('Using {} device'.format(device))"
   ]
  },
  {
   "attachments": {},
   "cell_type": "markdown",
   "metadata": {},
   "source": [
    "# Define the class\n",
    "nn.Moduleをサブクラス化してニューラルネットワークを定義し、__init__でニューラルネットワークのレイヤーを初期化します。nn.Moduleのサブクラスはすべて、forwardメソッドで入力データに対する操作を実装しています。\n",
    "\n",
    "我々のニューラルネットワークは以下のように構成されている：\n",
    "\n",
    "- 入力層は28x28、つまり784の特徴量/画素を持つ。\n",
    "- 最初の線形モジュールは、入力された784個の特徴量を受け取り、それを512個の特徴量を持つ隠れ層に変換します。\n",
    "- 変換の際にはReLU活性化関数が適用される\n",
    "- 2番目の線形モジュールは、最初の隠れ層から512個の特徴を入力として受け取り、512個の特徴を持つ次の隠れ層へ変換します。\n",
    "- 変換の際にはReLU活性化関数が適用されます。\n",
    "- 第3の線形モジュールは、第2隠れ層から512個の特徴を入力とし、クラス数である10で出力層に変換します。\n",
    "- 変換の際にはReLU活性化関数が適用されます。\n",
    "\n",
    "Our neural network are composed of the following:\n",
    "- The input layer with 28x28 or 784 features/pixels.\n",
    "- The first linear module takes the input 784 features and transforms it to a hidden layer with 512 features\n",
    "- The ReLU activation function will be applied in the transformation\n",
    "- The second linear module take 512 features as input from the first hidden layer and transforms it to the next hidden layer with 512 features\n",
    "- The ReLU activation function will be applied in the transformation\n",
    "- The third linear module take 512 features as input from the second hidden layer and transforms it to the output layer with 10, which is the number of classes\n",
    "- The ReLU activation function will be applied in the transformation"
   ]
  },
  {
   "cell_type": "code",
   "execution_count": 4,
   "metadata": {},
   "outputs": [],
   "source": [
    "class NeuralNetwork(nn.Module):\n",
    "    def __init__(self) -> None:\n",
    "        super(NeuralNetwork, self).__init__()\n",
    "        self.flatten = nn.Flatten()\n",
    "        self.linear_relu_stack = nn.Sequential(\n",
    "            nn.Linear(28*28, 512),\n",
    "            nn.ReLU(),\n",
    "            nn.Linear(512, 512),\n",
    "            nn.ReLU(),\n",
    "            nn.Linear(512, 10),\n",
    "            nn.ReLU()\n",
    "        )\n",
    "    \n",
    "    def forward(self, x):\n",
    "        x = self.flatten(x)\n",
    "        logits = self.linear_relu_stack(x)\n",
    "        return logits"
   ]
  },
  {
   "attachments": {},
   "cell_type": "markdown",
   "metadata": {},
   "source": [
    "NeuralNetworkのインスタンスを作成し、デバイスに移動させ、構造を出力する"
   ]
  },
  {
   "cell_type": "code",
   "execution_count": 5,
   "metadata": {},
   "outputs": [
    {
     "name": "stdout",
     "output_type": "stream",
     "text": [
      "NeuralNetwork(\n",
      "  (flatten): Flatten(start_dim=1, end_dim=-1)\n",
      "  (linear_relu_stack): Sequential(\n",
      "    (0): Linear(in_features=784, out_features=512, bias=True)\n",
      "    (1): ReLU()\n",
      "    (2): Linear(in_features=512, out_features=512, bias=True)\n",
      "    (3): ReLU()\n",
      "    (4): Linear(in_features=512, out_features=10, bias=True)\n",
      "    (5): ReLU()\n",
      "  )\n",
      ")\n"
     ]
    }
   ],
   "source": [
    "model = NeuralNetwork().to(device)\n",
    "print(model)"
   ]
  },
  {
   "attachments": {},
   "cell_type": "markdown",
   "metadata": {},
   "source": [
    "モデルを使うには、入力データを渡します。これにより、モデルのフォワードが実行され、いくつかのバックグラウンド操作が行われます。ただし、model.forward()を直接呼び出さないでください！入力に対してモデルを呼び出すと、各クラスの生の予測値を持つ10次元のテンソルが返されます。\n",
    "\n",
    "これをnn.Softmaxのインスタンスに渡すことで、予測密度を得ることができます"
   ]
  },
  {
   "cell_type": "code",
   "execution_count": 6,
   "metadata": {},
   "outputs": [
    {
     "name": "stdout",
     "output_type": "stream",
     "text": [
      "Predicted class: tensor([8])\n"
     ]
    }
   ],
   "source": [
    "X = torch.rand(1, 28, 28, device=device)\n",
    "logits = model(X) \n",
    "pred_probab = nn.Softmax(dim=1)(logits)\n",
    "y_pred = pred_probab.argmax(1)\n",
    "print(f\"Predicted class: {y_pred}\")"
   ]
  },
  {
   "attachments": {},
   "cell_type": "markdown",
   "metadata": {},
   "source": [
    "# Weight and Bias\n",
    "重みとバイアス\n",
    "`nn.Linear`モジュールは、ランダムに初期化された.weightとbiasを各レイヤーごとに設定し、内部でTensorsに格納する。"
   ]
  },
  {
   "cell_type": "code",
   "execution_count": 7,
   "metadata": {},
   "outputs": [
    {
     "name": "stdout",
     "output_type": "stream",
     "text": [
      "First Linear weights: Parameter containing:\n",
      "tensor([[ 0.0180,  0.0101,  0.0113,  ...,  0.0016,  0.0270,  0.0315],\n",
      "        [-0.0034, -0.0188, -0.0127,  ...,  0.0013, -0.0084, -0.0143],\n",
      "        [ 0.0222,  0.0068, -0.0314,  ..., -0.0067, -0.0220,  0.0304],\n",
      "        ...,\n",
      "        [-0.0254, -0.0349, -0.0136,  ...,  0.0160, -0.0061, -0.0003],\n",
      "        [ 0.0175,  0.0286,  0.0315,  ...,  0.0239, -0.0290,  0.0031],\n",
      "        [-0.0094,  0.0079,  0.0064,  ...,  0.0344,  0.0336,  0.0155]],\n",
      "       requires_grad=True) \n",
      "\n",
      "First Linear weights: Parameter containing:\n",
      "tensor([-1.3812e-02,  2.4754e-02, -2.2856e-02, -1.8447e-02, -3.4393e-02,\n",
      "         4.5773e-03,  3.1603e-02,  2.3868e-02,  1.8663e-02,  1.6154e-02,\n",
      "         2.7068e-02,  1.1031e-02, -3.6462e-03,  3.0994e-02,  2.1866e-02,\n",
      "        -3.4523e-02, -6.3748e-04, -4.2285e-03,  2.6484e-02,  1.1037e-02,\n",
      "        -2.2320e-02, -1.7648e-03, -1.8366e-02,  1.8345e-02,  1.0119e-02,\n",
      "        -2.2673e-02,  3.0038e-02, -9.5295e-03,  1.1125e-02, -1.2220e-02,\n",
      "        -2.5761e-02,  4.7831e-03,  3.0122e-02,  1.7931e-02,  1.2396e-03,\n",
      "        -2.3444e-02,  3.4162e-02,  1.5904e-03,  2.1720e-02, -3.8861e-03,\n",
      "         2.9754e-02,  1.6401e-02, -1.0005e-02,  2.4839e-02, -1.6287e-02,\n",
      "        -2.1282e-02,  3.2442e-02,  9.1168e-03,  3.0508e-02, -2.4132e-02,\n",
      "         3.0286e-02, -1.9621e-04,  2.9296e-02,  2.6267e-02, -1.1808e-02,\n",
      "        -1.9731e-03, -3.1065e-02, -2.3109e-02,  7.9694e-03, -3.3756e-02,\n",
      "        -2.2825e-02,  3.4366e-03,  2.8552e-02, -3.1540e-02,  1.0240e-03,\n",
      "        -1.0271e-02, -3.1416e-02, -1.7632e-03,  1.5521e-02, -8.2670e-03,\n",
      "         1.0807e-02, -1.2420e-02,  3.5660e-02, -1.7174e-02, -2.8855e-02,\n",
      "        -1.6731e-02,  6.5094e-03, -1.4848e-02, -1.2378e-02,  1.8823e-02,\n",
      "         1.5333e-02, -1.4268e-03, -3.4990e-02, -2.5215e-03,  1.5546e-02,\n",
      "        -5.7856e-03,  2.8979e-02,  1.1341e-03, -5.7929e-04, -2.4192e-02,\n",
      "         2.7190e-02, -2.9269e-02, -1.6283e-02,  1.0981e-02,  2.6960e-02,\n",
      "        -5.5595e-03,  2.5154e-03,  1.2094e-02, -3.1728e-03, -2.0916e-02,\n",
      "        -3.0962e-02, -6.1034e-03,  2.0011e-02,  1.3068e-02, -3.2753e-02,\n",
      "         7.9495e-03, -2.0801e-02, -3.1012e-02, -1.9246e-02, -3.3810e-02,\n",
      "         7.2860e-03, -6.3569e-03,  2.6984e-02,  5.3853e-03,  1.6344e-02,\n",
      "         3.1772e-02, -3.2554e-02, -1.0576e-02,  2.4727e-02,  1.3362e-02,\n",
      "        -2.6551e-02,  3.3148e-02,  1.1711e-02, -5.1739e-03, -2.5465e-02,\n",
      "         1.3806e-02,  1.7895e-02,  2.8659e-02, -1.1187e-02,  8.9660e-03,\n",
      "        -4.5203e-03, -1.3238e-02,  2.7248e-03,  3.2851e-02, -2.6810e-02,\n",
      "         5.8025e-03, -2.7883e-02,  1.0747e-02,  8.5534e-03,  7.3726e-03,\n",
      "        -1.0994e-02, -5.1205e-03,  3.5324e-02,  1.7115e-02,  1.9591e-02,\n",
      "        -1.7166e-02,  8.8816e-03, -9.9706e-03, -1.9374e-02, -1.3247e-02,\n",
      "         2.4611e-02,  3.3315e-02,  8.9898e-03, -2.9738e-02,  3.9261e-03,\n",
      "        -2.0869e-02,  2.6664e-03, -3.3121e-03, -1.1479e-02, -3.9012e-03,\n",
      "         1.5653e-02, -2.3351e-02, -3.0218e-02,  9.9641e-04, -2.4630e-02,\n",
      "         2.8504e-02,  1.8578e-03,  1.7540e-02,  1.4192e-02,  1.6912e-03,\n",
      "         2.5982e-02, -3.0973e-03, -1.3188e-02,  6.6387e-03, -2.0680e-02,\n",
      "         1.1155e-02,  2.7705e-02, -2.0745e-02,  1.7946e-02, -1.4019e-02,\n",
      "        -1.5153e-02, -3.0187e-02,  8.5923e-03,  2.8753e-03,  1.8866e-03,\n",
      "         2.6814e-02, -3.9935e-03, -1.8734e-02,  9.7623e-03, -3.2859e-02,\n",
      "         2.6850e-02, -5.9847e-03,  1.6590e-02,  2.8443e-02, -1.0527e-02,\n",
      "         6.0320e-03,  3.2500e-02,  2.3396e-03,  2.5438e-02,  7.2882e-04,\n",
      "        -1.5430e-02, -5.4748e-03, -2.7921e-02, -8.6772e-03, -1.5484e-03,\n",
      "         1.2442e-02,  1.4208e-02,  3.4286e-02,  2.8503e-02,  2.8516e-02,\n",
      "        -3.3663e-03,  3.2589e-02,  7.5758e-03,  2.2321e-03,  1.7224e-03,\n",
      "        -1.7506e-02,  3.2265e-02,  3.0730e-02,  1.2530e-02, -3.4317e-02,\n",
      "        -1.7972e-02,  2.9406e-02, -1.2161e-02, -1.5731e-03,  3.0626e-02,\n",
      "         4.4079e-03, -3.4402e-02, -1.7035e-02,  1.4072e-02, -2.2218e-02,\n",
      "         2.4816e-02,  3.2667e-02, -1.4305e-02,  1.8366e-02,  2.0682e-02,\n",
      "        -2.3786e-02, -4.3250e-04, -2.2044e-02, -3.3190e-02, -3.0768e-04,\n",
      "         1.2946e-02,  3.3650e-02, -2.9951e-02, -2.9454e-02, -6.5527e-03,\n",
      "         2.3057e-02, -1.6439e-02,  3.4119e-02, -1.5213e-02, -3.3334e-02,\n",
      "         1.7356e-02, -1.7865e-02,  3.4901e-02, -6.8857e-03, -1.1486e-02,\n",
      "         5.1360e-03,  2.9026e-02,  2.1914e-02, -2.0563e-02,  6.0613e-03,\n",
      "         1.0977e-02, -9.3761e-03, -9.5866e-04,  1.1944e-02,  2.0927e-02,\n",
      "         2.7674e-02,  1.7664e-02, -2.2909e-02,  3.1489e-02,  1.3323e-02,\n",
      "         1.5764e-02, -1.6571e-03, -3.5072e-02,  1.0388e-02, -3.1729e-02,\n",
      "        -9.8304e-03, -4.5008e-03,  6.0148e-03, -3.4520e-02,  8.3069e-03,\n",
      "         2.4818e-02,  1.7370e-02, -2.0439e-02, -1.5323e-02, -1.6147e-02,\n",
      "         1.0692e-02,  1.9283e-02, -1.3028e-02,  1.1730e-03,  2.7111e-02,\n",
      "        -1.4332e-02, -2.7455e-02,  2.7742e-02,  1.7277e-02,  2.6850e-02,\n",
      "        -1.8930e-02,  1.6313e-02, -1.7596e-02, -9.7302e-03, -2.4476e-03,\n",
      "        -1.7412e-02,  2.6216e-02, -2.6930e-02,  1.4348e-02, -7.3305e-04,\n",
      "         2.0259e-02, -1.5583e-02, -2.8324e-02, -1.9548e-02, -3.9304e-03,\n",
      "        -2.0217e-02,  1.4140e-02,  1.9265e-03, -5.2558e-03, -1.7247e-02,\n",
      "         3.0603e-02,  1.5465e-02,  1.8708e-02,  2.3016e-02,  2.4400e-02,\n",
      "         1.4826e-02,  1.5693e-03, -3.1381e-02,  1.4572e-02,  6.9274e-03,\n",
      "        -3.5336e-03,  8.2776e-03, -2.6512e-02,  2.3350e-02,  1.2316e-02,\n",
      "         2.8921e-02,  1.5565e-02,  2.8221e-02, -6.0221e-03,  3.3079e-02,\n",
      "         1.3693e-02, -3.1367e-02,  1.8492e-02,  3.2998e-02, -9.1744e-03,\n",
      "        -3.4414e-02,  7.3909e-03, -2.5542e-02, -2.4425e-02,  1.8346e-02,\n",
      "        -4.7981e-04, -3.2761e-03,  2.4250e-02,  1.7017e-02, -7.6113e-03,\n",
      "         2.0848e-02, -1.4190e-02, -2.4017e-02,  1.1262e-02,  1.5949e-02,\n",
      "         1.7408e-02,  2.6080e-02,  1.8165e-02, -3.0549e-02,  1.3440e-02,\n",
      "         3.2519e-02, -2.8944e-04, -8.5753e-03,  1.1493e-03, -1.0300e-03,\n",
      "        -2.0781e-02,  1.3529e-02, -6.8552e-03, -1.5428e-02,  1.2375e-02,\n",
      "        -2.1552e-03, -2.6630e-02,  1.7259e-02, -9.1602e-03, -7.3801e-03,\n",
      "        -6.3768e-03, -1.0134e-02, -1.5746e-02, -2.4867e-02,  2.0250e-02,\n",
      "        -8.1636e-03,  1.7358e-02,  1.8221e-02,  3.1111e-02, -5.0068e-03,\n",
      "        -5.2810e-03,  1.2511e-02,  5.1373e-03,  2.7475e-02, -2.6023e-02,\n",
      "        -2.0785e-02, -3.0930e-02, -3.4953e-04, -1.5295e-03, -1.4446e-02,\n",
      "         1.6772e-02,  2.5900e-02, -5.1120e-04,  2.5339e-02,  2.5574e-02,\n",
      "         5.1667e-03, -9.3975e-03, -2.5922e-02, -1.6561e-02,  2.7657e-02,\n",
      "        -2.4189e-02,  1.7575e-02, -2.5858e-02,  1.5751e-02,  6.0070e-03,\n",
      "        -3.1939e-02, -3.0632e-02, -9.4513e-03,  5.9410e-03, -6.4643e-03,\n",
      "        -2.5737e-02, -2.1798e-02, -2.1083e-03, -1.6240e-02, -1.4450e-03,\n",
      "         1.6192e-02, -3.4198e-02,  1.7668e-02,  1.8670e-02,  6.9729e-03,\n",
      "        -1.7612e-02,  1.3499e-02, -9.2434e-03,  5.1586e-03, -2.7659e-02,\n",
      "         2.1108e-02,  3.3978e-02, -3.7477e-03, -1.9139e-02,  2.7857e-02,\n",
      "         2.9516e-02, -5.4996e-05, -1.7010e-02, -2.3685e-02,  4.5700e-03,\n",
      "         2.7352e-02,  1.3745e-02, -3.0763e-02,  1.6870e-02, -1.7339e-02,\n",
      "         5.0886e-03, -2.4418e-02,  7.7751e-03, -3.0916e-02, -1.4962e-02,\n",
      "        -1.4477e-02,  2.2753e-02,  2.1548e-02,  3.0739e-02, -2.2078e-02,\n",
      "        -2.7935e-02,  1.2561e-02, -3.1038e-02,  1.2889e-02,  1.8747e-03,\n",
      "        -3.0189e-02,  1.5576e-02,  3.1123e-02, -2.6215e-02,  2.4076e-04,\n",
      "        -2.9796e-02, -1.4736e-02, -1.6689e-02, -6.2906e-03, -2.9609e-02,\n",
      "        -3.9203e-03, -6.5695e-03,  3.3673e-02, -2.7433e-02, -1.4727e-02,\n",
      "        -3.3639e-02,  2.8130e-03, -7.4618e-03,  3.2932e-02, -2.1768e-02,\n",
      "        -2.7616e-03, -3.2201e-02,  1.2186e-02,  1.1641e-03, -3.3904e-02,\n",
      "        -2.9179e-02,  4.7742e-03,  2.3232e-03, -2.5481e-02, -1.8505e-02,\n",
      "         2.5153e-02, -2.4286e-02,  2.5822e-02,  2.4799e-02,  1.1335e-02,\n",
      "         1.0098e-02, -1.3726e-02,  3.1276e-02,  1.8869e-02, -3.2417e-02,\n",
      "         1.6844e-02, -1.4919e-02, -1.6110e-02,  1.6381e-02,  1.8156e-02,\n",
      "         5.8024e-03, -8.9050e-03, -5.6131e-03,  1.2398e-03, -2.9397e-02,\n",
      "        -3.4643e-02,  6.2488e-03], requires_grad=True) \n",
      "\n"
     ]
    }
   ],
   "source": [
    "print(f\"First Linear weights: {model.linear_relu_stack[0].weight} \\n\")\n",
    "print(f\"First Linear weights: {model.linear_relu_stack[0].bias} \\n\")"
   ]
  },
  {
   "attachments": {},
   "cell_type": "markdown",
   "metadata": {},
   "source": [
    "# Model layers\n",
    "FashionMNISTモデルのレイヤーを分解してみましょう。それを説明するために、サイズ28x28の3枚の画像からなるミニバッチのサンプルを取り、それをネットワークに通すとどうなるかを見ていきます。"
   ]
  },
  {
   "cell_type": "code",
   "execution_count": 8,
   "metadata": {},
   "outputs": [
    {
     "name": "stdout",
     "output_type": "stream",
     "text": [
      "torch.Size([3, 28, 28])\n"
     ]
    }
   ],
   "source": [
    "input_image = torch.rand(3,28,28)\n",
    "print(input_image.size())"
   ]
  },
  {
   "attachments": {},
   "cell_type": "markdown",
   "metadata": {},
   "source": [
    "# nn.Flatten\n",
    "nn.Flatten層を初期化して、各2D 28x28画像を784個のピクセル値からなる連続した配列に変換します（ミニバッチの次元（dim=0）は維持されます）。各ピクセルは、ニューラルネットワークの入力層に渡されます。"
   ]
  },
  {
   "cell_type": "code",
   "execution_count": 10,
   "metadata": {},
   "outputs": [
    {
     "name": "stdout",
     "output_type": "stream",
     "text": [
      "torch.Size([3, 784])\n"
     ]
    }
   ],
   "source": [
    "flatten = nn.Flatten()\n",
    "flat_image = flatten(input_image)\n",
    "print(flat_image.size())"
   ]
  },
  {
   "attachments": {},
   "cell_type": "markdown",
   "metadata": {},
   "source": [
    "# nn.Linear\n",
    "線形層は、保存されている重みとバイアスを使用して入力に線形変換を適用するモジュールです。入力層の各ピクセルのゲイズケール値は、計算のために隠れ層のニューロンに接続されます。変換に使われる計算式は\n",
    "\n",
    " ${{weight * input + bias}} $."
   ]
  },
  {
   "cell_type": "code",
   "execution_count": 11,
   "metadata": {},
   "outputs": [
    {
     "name": "stdout",
     "output_type": "stream",
     "text": [
      "torch.Size([3, 20])\n"
     ]
    }
   ],
   "source": [
    "layer1 = nn.Linear(in_features=28*28, out_features=20)\n",
    "hidden1 = layer1(flat_image)\n",
    "print(hidden1.size())"
   ]
  },
  {
   "attachments": {},
   "cell_type": "markdown",
   "metadata": {},
   "source": [
    "# nn.ReLU\n",
    "非線形活性化とは、モデルの入力と出力の間の複雑なマッピングを作成するものです。線形変換の後に適用して非線形性を導入することで、ニューラルネットワークが様々な現象を学習するのに役立ちます。このモデルでは、線形層の間にnn.ReLUを使用していますが、他にもモデルに非線形性を導入するための活性化関数が存在します。\n",
    "\n",
    "ReLU活性化関数は、線形層の計算から出力を取り出し、負の値をゼロに置き換えます。\n",
    "\n",
    "Linear output: ${ x = {weight * input + bias}} $.  \n",
    "ReLU:  $f(x)= \n",
    "\\begin{cases}\n",
    "    0, & \\text{if } x < 0\\\\\n",
    "    x, & \\text{if } x\\geq 0\\\\\n",
    "\\end{cases}\n",
    "$"
   ]
  },
  {
   "cell_type": "code",
   "execution_count": 12,
   "metadata": {},
   "outputs": [
    {
     "name": "stdout",
     "output_type": "stream",
     "text": [
      "Before ReLU: tensor([[ 0.2535, -0.1495, -0.5315,  0.4192, -0.1918, -0.0784,  0.1332,  0.2028,\n",
      "         -0.5070, -0.6030, -0.3069, -0.1673,  0.3264, -0.8359, -0.3981, -0.5627,\n",
      "          0.8278,  0.1719,  0.2795,  0.4423],\n",
      "        [ 0.0810,  0.2346, -0.4842,  0.3080, -0.5580, -0.2020, -0.0310, -0.3989,\n",
      "         -0.2091, -0.1662, -0.7364, -0.1880,  0.3792, -0.2693, -0.6273, -0.8236,\n",
      "          0.5489, -0.3475,  0.3037,  0.1121],\n",
      "        [ 0.0965, -0.0033, -0.2779,  0.0250, -0.2619, -0.4589,  0.0494,  0.2308,\n",
      "         -0.2549, -0.0493, -0.6649, -0.3260,  0.0967, -0.2756, -0.5761, -0.7235,\n",
      "          0.6648,  0.2331,  0.0869,  0.8297]], grad_fn=<AddmmBackward0>)\n",
      "\n",
      "\n",
      "After ReLU: tensor([[0.2535, 0.0000, 0.0000, 0.4192, 0.0000, 0.0000, 0.1332, 0.2028, 0.0000,\n",
      "         0.0000, 0.0000, 0.0000, 0.3264, 0.0000, 0.0000, 0.0000, 0.8278, 0.1719,\n",
      "         0.2795, 0.4423],\n",
      "        [0.0810, 0.2346, 0.0000, 0.3080, 0.0000, 0.0000, 0.0000, 0.0000, 0.0000,\n",
      "         0.0000, 0.0000, 0.0000, 0.3792, 0.0000, 0.0000, 0.0000, 0.5489, 0.0000,\n",
      "         0.3037, 0.1121],\n",
      "        [0.0965, 0.0000, 0.0000, 0.0250, 0.0000, 0.0000, 0.0494, 0.2308, 0.0000,\n",
      "         0.0000, 0.0000, 0.0000, 0.0967, 0.0000, 0.0000, 0.0000, 0.6648, 0.2331,\n",
      "         0.0869, 0.8297]], grad_fn=<ReluBackward0>)\n"
     ]
    }
   ],
   "source": [
    "print(f\"Before ReLU: {hidden1}\\n\\n\")\n",
    "hidden1 = nn.ReLU()(hidden1)\n",
    "print(f\"After ReLU: {hidden1}\")"
   ]
  },
  {
   "attachments": {},
   "cell_type": "markdown",
   "metadata": {},
   "source": [
    "# nn.Sequential\n",
    "nn.Sequentialは、モジュールの順序付きコンテナです。データは定義されたのと同じ順序ですべてのモジュールに渡されます。シーケンシャルコンテナを使って、seq_modulesのように素早くネットワークを組むことができます。"
   ]
  },
  {
   "cell_type": "code",
   "execution_count": 13,
   "metadata": {},
   "outputs": [],
   "source": [
    "seq_modules = nn.Sequential(\n",
    "    flatten,\n",
    "    layer1,\n",
    "    nn.ReLU(),\n",
    "    nn.Linear(20, 10)\n",
    ")\n",
    "input_image = torch.rand(3,28,28)\n",
    "logits = seq_modules(input_image)"
   ]
  },
  {
   "attachments": {},
   "cell_type": "markdown",
   "metadata": {},
   "source": [
    "# nn.Softmax\n",
    "ニューラルネットワークの最後の線形層は、logits - [-infty, infty]の生値を返し、nn.Softmaxモジュールに渡される。Softmax活性化関数は、ニューラルネットワークからの出力の確率を計算するために使用されます。これは、ニューラルネットワークの出力層でのみ使用されます。dimパラメータは、結果の値の合計が1になる次元を示します。最も高い確率を持つノードが目的の出力を予測します。"
   ]
  },
  {
   "cell_type": "code",
   "execution_count": 14,
   "metadata": {},
   "outputs": [],
   "source": [
    "softmax = nn.Softmax(dim=1)\n",
    "pred_probab = softmax(logits)"
   ]
  },
  {
   "attachments": {},
   "cell_type": "markdown",
   "metadata": {},
   "source": [
    "# Model parameter\n",
    "ニューラルネットワークの多くの層はパラメータ化されており、学習中に最適化される重みとバイアスが関連付けられています。nn.Moduleをサブクラス化すると、モデルオブジェクト内で定義されたすべてのフィールドが自動的に追跡され、モデルのparameters()やnamed_parameters()メソッドを使用してすべてのパラメータにアクセスできるようになりま\n",
    "\n",
    "この例では、各パラメーターに対して反復処理を行い、そのサイズと値のプレビューを表示しています。"
   ]
  },
  {
   "cell_type": "code",
   "execution_count": 15,
   "metadata": {},
   "outputs": [
    {
     "name": "stdout",
     "output_type": "stream",
     "text": [
      "Model structure:  NeuralNetwork(\n",
      "  (flatten): Flatten(start_dim=1, end_dim=-1)\n",
      "  (linear_relu_stack): Sequential(\n",
      "    (0): Linear(in_features=784, out_features=512, bias=True)\n",
      "    (1): ReLU()\n",
      "    (2): Linear(in_features=512, out_features=512, bias=True)\n",
      "    (3): ReLU()\n",
      "    (4): Linear(in_features=512, out_features=10, bias=True)\n",
      "    (5): ReLU()\n",
      "  )\n",
      ") \n",
      "\n",
      "\n",
      "Layer: linear_relu_stack.0.weight | Size: torch.Size([512, 784]) | Values : tensor([[ 0.0180,  0.0101,  0.0113,  ...,  0.0016,  0.0270,  0.0315],\n",
      "        [-0.0034, -0.0188, -0.0127,  ...,  0.0013, -0.0084, -0.0143]],\n",
      "       grad_fn=<SliceBackward0>) \n",
      "\n",
      "Layer: linear_relu_stack.0.bias | Size: torch.Size([512]) | Values : tensor([-0.0138,  0.0248], grad_fn=<SliceBackward0>) \n",
      "\n",
      "Layer: linear_relu_stack.2.weight | Size: torch.Size([512, 512]) | Values : tensor([[-0.0415,  0.0316,  0.0142,  ...,  0.0216, -0.0083, -0.0430],\n",
      "        [ 0.0270, -0.0246, -0.0169,  ..., -0.0360,  0.0122, -0.0100]],\n",
      "       grad_fn=<SliceBackward0>) \n",
      "\n",
      "Layer: linear_relu_stack.2.bias | Size: torch.Size([512]) | Values : tensor([-0.0408,  0.0022], grad_fn=<SliceBackward0>) \n",
      "\n",
      "Layer: linear_relu_stack.4.weight | Size: torch.Size([10, 512]) | Values : tensor([[ 0.0145, -0.0018, -0.0036,  ...,  0.0334, -0.0077,  0.0011],\n",
      "        [-0.0380,  0.0377,  0.0432,  ..., -0.0014,  0.0257,  0.0412]],\n",
      "       grad_fn=<SliceBackward0>) \n",
      "\n",
      "Layer: linear_relu_stack.4.bias | Size: torch.Size([10]) | Values : tensor([ 0.0011, -0.0427], grad_fn=<SliceBackward0>) \n",
      "\n"
     ]
    }
   ],
   "source": [
    "print(\"Model structure: \", model, \"\\n\\n\")\n",
    "\n",
    "for name, param in model.named_parameters():\n",
    "    print(f\"Layer: {name} | Size: {param.size()} | Values : {param[:2]} \\n\")"
   ]
  }
 ],
 "metadata": {
  "kernelspec": {
   "display_name": "Deeplearning",
   "language": "python",
   "name": "python3"
  },
  "language_info": {
   "codemirror_mode": {
    "name": "ipython",
    "version": 3
   },
   "file_extension": ".py",
   "mimetype": "text/x-python",
   "name": "python",
   "nbconvert_exporter": "python",
   "pygments_lexer": "ipython3",
   "version": "3.10.11"
  },
  "orig_nbformat": 4
 },
 "nbformat": 4,
 "nbformat_minor": 2
}
