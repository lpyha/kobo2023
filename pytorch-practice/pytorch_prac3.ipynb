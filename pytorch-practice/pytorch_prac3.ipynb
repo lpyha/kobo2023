{
 "cells": [
  {
   "attachments": {},
   "cell_type": "markdown",
   "metadata": {},
   "source": [
    "# What is a neural network\n",
    "ニューラルネットワークは、層によって接続されたニューロンの集合体である。各ニューロンは小さな計算ユニットで、簡単な計算を行い、問題をまとめて解決します。それらは層で構成されています。層には、入力層、隠れ層、出力層の3種類があります。各層は、入力層を除いて、多数のニューロンを含んでいます。ニューラルネットワークは、人間の脳が情報を処理する方法を模倣しています。\n",
    "\n",
    "以下のセクションでは、FashionMNISTデータセットの画像を分類するためのニューラルネットワークを構築します。"
   ]
  },
  {
   "cell_type": "code",
   "execution_count": 1,
   "metadata": {},
   "outputs": [],
   "source": [
    "import os\n",
    "import torch\n",
    "from torch import nn\n",
    "from torch.utils.data import DataLoader\n",
    "from torchvision import datasets, transforms"
   ]
  },
  {
   "attachments": {},
   "cell_type": "markdown",
   "metadata": {},
   "source": [
    "# Get a hardware device for training\n",
    "GPUのようなハードウェアアクセラレータが利用できるのであれば、その上でモデルをトレーニングできるようにしたい。torch.cudaが利用可能かどうかを確認しましょう。そうでない場合は、引き続きCPUを使用します。"
   ]
  },
  {
   "cell_type": "code",
   "execution_count": 2,
   "metadata": {},
   "outputs": [
    {
     "name": "stdout",
     "output_type": "stream",
     "text": [
      "Using cpu device\n"
     ]
    }
   ],
   "source": [
    "device = 'cuda' if torch.cuda.is_available() else 'cpu'\n",
    "print('Using {} device'.format(device))"
   ]
  },
  {
   "attachments": {},
   "cell_type": "markdown",
   "metadata": {},
   "source": [
    "# Define the class\n",
    "nn.Moduleをサブクラス化してニューラルネットワークを定義し、__init__でニューラルネットワークのレイヤーを初期化します。nn.Moduleのサブクラスはすべて、forwardメソッドで入力データに対する操作を実装しています。\n",
    "\n",
    "我々のニューラルネットワークは以下のように構成されている：\n",
    "\n",
    "- 入力層は28x28、つまり784の特徴量/画素を持つ。\n",
    "- 最初の線形モジュールは、入力された784個の特徴量を受け取り、それを512個の特徴量を持つ隠れ層に変換します。\n",
    "- 変換の際にはReLU活性化関数が適用される\n",
    "- 2番目の線形モジュールは、最初の隠れ層から512個の特徴を入力として受け取り、512個の特徴を持つ次の隠れ層へ変換します。\n",
    "- 変換の際にはReLU活性化関数が適用されます。\n",
    "- 第3の線形モジュールは、第2隠れ層から512個の特徴を入力とし、クラス数である10で出力層に変換します。\n",
    "- 変換の際にはReLU活性化関数が適用されます。\n",
    "\n",
    "Our neural network are composed of the following:\n",
    "- The input layer with 28x28 or 784 features/pixels.\n",
    "- The first linear module takes the input 784 features and transforms it to a hidden layer with 512 features\n",
    "- The ReLU activation function will be applied in the transformation\n",
    "- The second linear module take 512 features as input from the first hidden layer and transforms it to the next hidden layer with 512 features\n",
    "- The ReLU activation function will be applied in the transformation\n",
    "- The third linear module take 512 features as input from the second hidden layer and transforms it to the output layer with 10, which is the number of classes\n",
    "- The ReLU activation function will be applied in the transformation"
   ]
  },
  {
   "cell_type": "code",
   "execution_count": 3,
   "metadata": {},
   "outputs": [],
   "source": [
    "class NeuralNetwork(nn.Module):\n",
    "    def __init__(self) -> None:\n",
    "        super(NeuralNetwork, self).__init__()\n",
    "        self.flatten = nn.Flatten()\n",
    "        self.linear_relu_stack = nn.Sequential(\n",
    "            nn.Linear(28*28, 512),\n",
    "            nn.ReLU(),\n",
    "            nn.Linear(512, 512),\n",
    "            nn.ReLU(),\n",
    "            nn.Linear(512, 10),\n",
    "            nn.ReLU()\n",
    "        )\n",
    "    \n",
    "    def forward(self, x):\n",
    "        x = self.flatten(x)\n",
    "        logits = self.linear_relu_stack(x)\n",
    "        return logits"
   ]
  },
  {
   "attachments": {},
   "cell_type": "markdown",
   "metadata": {},
   "source": [
    "NeuralNetworkのインスタンスを作成し、デバイスに移動させ、構造を出力する"
   ]
  },
  {
   "cell_type": "code",
   "execution_count": 4,
   "metadata": {},
   "outputs": [
    {
     "name": "stdout",
     "output_type": "stream",
     "text": [
      "NeuralNetwork(\n",
      "  (flatten): Flatten(start_dim=1, end_dim=-1)\n",
      "  (linear_relu_stack): Sequential(\n",
      "    (0): Linear(in_features=784, out_features=512, bias=True)\n",
      "    (1): ReLU()\n",
      "    (2): Linear(in_features=512, out_features=512, bias=True)\n",
      "    (3): ReLU()\n",
      "    (4): Linear(in_features=512, out_features=10, bias=True)\n",
      "    (5): ReLU()\n",
      "  )\n",
      ")\n"
     ]
    }
   ],
   "source": [
    "model = NeuralNetwork().to(device)\n",
    "print(model)"
   ]
  },
  {
   "attachments": {},
   "cell_type": "markdown",
   "metadata": {},
   "source": [
    "モデルを使うには、入力データを渡します。これにより、モデルのフォワードが実行され、いくつかのバックグラウンド操作が行われます。ただし、model.forward()を直接呼び出さないでください！入力に対してモデルを呼び出すと、各クラスの生の予測値を持つ10次元のテンソルが返されます。\n",
    "\n",
    "これをnn.Softmaxのインスタンスに渡すことで、予測密度を得ることができます"
   ]
  },
  {
   "cell_type": "code",
   "execution_count": 5,
   "metadata": {},
   "outputs": [
    {
     "name": "stdout",
     "output_type": "stream",
     "text": [
      "Predicted class: tensor([2])\n"
     ]
    }
   ],
   "source": [
    "X = torch.rand(1, 28, 28, device=device)\n",
    "logits = model(X) \n",
    "pred_probab = nn.Softmax(dim=1)(logits)\n",
    "y_pred = pred_probab.argmax(1)\n",
    "print(f\"Predicted class: {y_pred}\")"
   ]
  },
  {
   "attachments": {},
   "cell_type": "markdown",
   "metadata": {},
   "source": [
    "# Weight and Bias\n",
    "重みとバイアス\n",
    "`nn.Linear`モジュールは、ランダムに初期化された.weightとbiasを各レイヤーごとに設定し、内部でTensorsに格納する。"
   ]
  },
  {
   "cell_type": "code",
   "execution_count": 6,
   "metadata": {},
   "outputs": [
    {
     "name": "stdout",
     "output_type": "stream",
     "text": [
      "First Linear weights: Parameter containing:\n",
      "tensor([[-0.0178,  0.0106, -0.0004,  ..., -0.0083,  0.0151,  0.0128],\n",
      "        [ 0.0346, -0.0181, -0.0210,  ...,  0.0189, -0.0036, -0.0006],\n",
      "        [-0.0281, -0.0053,  0.0192,  ...,  0.0281,  0.0294, -0.0207],\n",
      "        ...,\n",
      "        [ 0.0342,  0.0275,  0.0175,  ..., -0.0156,  0.0035, -0.0066],\n",
      "        [-0.0254,  0.0015,  0.0251,  ..., -0.0103, -0.0045, -0.0072],\n",
      "        [ 0.0168, -0.0042,  0.0031,  ..., -0.0017,  0.0246,  0.0091]],\n",
      "       requires_grad=True) \n",
      "\n",
      "First Linear weights: Parameter containing:\n",
      "tensor([-0.0183, -0.0312,  0.0027, -0.0054, -0.0106,  0.0022, -0.0254, -0.0141,\n",
      "         0.0042, -0.0352, -0.0043, -0.0236, -0.0087,  0.0156,  0.0033,  0.0039,\n",
      "         0.0045, -0.0201,  0.0054, -0.0227, -0.0018, -0.0292,  0.0339, -0.0216,\n",
      "        -0.0197,  0.0143,  0.0016,  0.0207, -0.0210,  0.0160,  0.0142, -0.0157,\n",
      "        -0.0128,  0.0101, -0.0182, -0.0090,  0.0199,  0.0353, -0.0063, -0.0197,\n",
      "        -0.0279,  0.0087, -0.0252,  0.0141, -0.0065,  0.0224, -0.0296,  0.0273,\n",
      "         0.0268,  0.0303,  0.0338,  0.0038,  0.0206, -0.0307, -0.0001, -0.0134,\n",
      "        -0.0306,  0.0169, -0.0269,  0.0302, -0.0080,  0.0272, -0.0351,  0.0330,\n",
      "        -0.0271,  0.0180,  0.0314, -0.0332, -0.0146, -0.0246, -0.0032,  0.0339,\n",
      "         0.0323,  0.0112,  0.0116, -0.0146, -0.0320, -0.0003,  0.0357,  0.0312,\n",
      "         0.0216,  0.0339, -0.0279, -0.0172,  0.0097,  0.0011, -0.0060, -0.0331,\n",
      "         0.0070, -0.0241,  0.0334, -0.0064, -0.0069,  0.0067,  0.0192, -0.0265,\n",
      "         0.0156, -0.0188, -0.0255,  0.0145, -0.0148,  0.0325,  0.0264, -0.0076,\n",
      "        -0.0348, -0.0004, -0.0023, -0.0073, -0.0283, -0.0236,  0.0295,  0.0290,\n",
      "        -0.0146, -0.0108, -0.0015,  0.0231,  0.0014,  0.0340,  0.0071, -0.0128,\n",
      "        -0.0245,  0.0225, -0.0001, -0.0274, -0.0122,  0.0161,  0.0161, -0.0180,\n",
      "        -0.0076, -0.0021,  0.0313, -0.0152, -0.0168, -0.0084,  0.0111, -0.0239,\n",
      "        -0.0268, -0.0026, -0.0174, -0.0004, -0.0231,  0.0083,  0.0287, -0.0356,\n",
      "        -0.0093, -0.0335, -0.0032, -0.0127, -0.0223, -0.0293,  0.0004,  0.0173,\n",
      "        -0.0135,  0.0004, -0.0328,  0.0198, -0.0208, -0.0143, -0.0031,  0.0088,\n",
      "         0.0124,  0.0042,  0.0226, -0.0036, -0.0104, -0.0240,  0.0319,  0.0122,\n",
      "         0.0145, -0.0090, -0.0091, -0.0278, -0.0254,  0.0133, -0.0114, -0.0176,\n",
      "        -0.0124, -0.0252,  0.0023, -0.0023, -0.0328,  0.0210,  0.0182, -0.0019,\n",
      "        -0.0065,  0.0152, -0.0190, -0.0356, -0.0018,  0.0254, -0.0209, -0.0239,\n",
      "        -0.0289, -0.0081,  0.0305, -0.0170,  0.0327,  0.0298,  0.0296, -0.0342,\n",
      "        -0.0101,  0.0346,  0.0246,  0.0271,  0.0292,  0.0185, -0.0243, -0.0093,\n",
      "        -0.0344, -0.0298,  0.0063, -0.0164, -0.0196,  0.0272,  0.0295,  0.0201,\n",
      "         0.0283,  0.0181,  0.0081,  0.0328,  0.0250, -0.0278, -0.0353, -0.0181,\n",
      "        -0.0351, -0.0182,  0.0056, -0.0073,  0.0175,  0.0030, -0.0251, -0.0117,\n",
      "         0.0136,  0.0233,  0.0076,  0.0121,  0.0290,  0.0307,  0.0294,  0.0302,\n",
      "        -0.0327,  0.0331, -0.0241, -0.0090,  0.0301, -0.0135,  0.0187, -0.0014,\n",
      "        -0.0248,  0.0041, -0.0039,  0.0310, -0.0038,  0.0270, -0.0227,  0.0306,\n",
      "         0.0148, -0.0034, -0.0021,  0.0244, -0.0063, -0.0146,  0.0103,  0.0177,\n",
      "        -0.0182, -0.0183,  0.0309,  0.0083,  0.0234, -0.0048,  0.0111,  0.0204,\n",
      "        -0.0298,  0.0105,  0.0250,  0.0212,  0.0090,  0.0258,  0.0228,  0.0157,\n",
      "        -0.0312, -0.0213, -0.0312,  0.0260, -0.0023, -0.0266,  0.0133,  0.0309,\n",
      "        -0.0211,  0.0002,  0.0199, -0.0049, -0.0212, -0.0022,  0.0321,  0.0051,\n",
      "         0.0049, -0.0085, -0.0304, -0.0081, -0.0137,  0.0289,  0.0240,  0.0297,\n",
      "        -0.0179,  0.0307,  0.0183, -0.0230, -0.0074, -0.0330, -0.0120,  0.0071,\n",
      "         0.0131,  0.0196, -0.0131, -0.0190,  0.0164,  0.0287, -0.0232,  0.0063,\n",
      "         0.0042, -0.0070,  0.0308,  0.0158, -0.0290, -0.0203,  0.0293,  0.0327,\n",
      "        -0.0108, -0.0056,  0.0238, -0.0015,  0.0058, -0.0357,  0.0257, -0.0046,\n",
      "         0.0302,  0.0014,  0.0339, -0.0037,  0.0302,  0.0151, -0.0051, -0.0323,\n",
      "        -0.0148,  0.0277,  0.0237,  0.0327, -0.0160,  0.0267,  0.0330, -0.0274,\n",
      "        -0.0182,  0.0292, -0.0139, -0.0101,  0.0092,  0.0292,  0.0059,  0.0141,\n",
      "         0.0090,  0.0348,  0.0113, -0.0052,  0.0115, -0.0040,  0.0196, -0.0152,\n",
      "         0.0058,  0.0022,  0.0122, -0.0350, -0.0094,  0.0082, -0.0053, -0.0295,\n",
      "        -0.0023,  0.0308,  0.0185,  0.0241, -0.0273,  0.0227,  0.0251, -0.0064,\n",
      "        -0.0300, -0.0201,  0.0015,  0.0212,  0.0194,  0.0206, -0.0117, -0.0232,\n",
      "        -0.0105, -0.0071, -0.0262,  0.0069, -0.0199,  0.0163,  0.0274, -0.0199,\n",
      "         0.0283, -0.0275,  0.0301, -0.0102, -0.0181, -0.0078, -0.0031,  0.0137,\n",
      "         0.0341, -0.0312,  0.0163,  0.0078, -0.0205,  0.0241,  0.0258, -0.0068,\n",
      "        -0.0148,  0.0073, -0.0174, -0.0101,  0.0084, -0.0266,  0.0329, -0.0129,\n",
      "         0.0316, -0.0241,  0.0296,  0.0163,  0.0160, -0.0169, -0.0334,  0.0210,\n",
      "        -0.0316, -0.0187, -0.0123, -0.0110, -0.0303, -0.0068,  0.0072, -0.0149,\n",
      "         0.0110, -0.0287,  0.0213,  0.0342, -0.0189,  0.0259, -0.0326,  0.0296,\n",
      "         0.0278, -0.0275,  0.0122,  0.0267, -0.0042, -0.0064, -0.0099,  0.0350,\n",
      "        -0.0236,  0.0205,  0.0269, -0.0199, -0.0159, -0.0306, -0.0138, -0.0105,\n",
      "         0.0272,  0.0267,  0.0317,  0.0063,  0.0074, -0.0329, -0.0129, -0.0212,\n",
      "         0.0333, -0.0277,  0.0218,  0.0210,  0.0234,  0.0098,  0.0200, -0.0064,\n",
      "        -0.0259,  0.0355, -0.0302, -0.0348,  0.0241,  0.0132,  0.0219, -0.0155,\n",
      "         0.0165,  0.0091, -0.0061,  0.0155,  0.0106, -0.0193, -0.0348, -0.0317,\n",
      "         0.0293,  0.0340,  0.0202,  0.0147,  0.0297,  0.0160, -0.0137,  0.0185,\n",
      "        -0.0096,  0.0075,  0.0187, -0.0074,  0.0246, -0.0072, -0.0051,  0.0187],\n",
      "       requires_grad=True) \n",
      "\n"
     ]
    }
   ],
   "source": [
    "print(f\"First Linear weights: {model.linear_relu_stack[0].weight} \\n\")\n",
    "print(f\"First Linear weights: {model.linear_relu_stack[0].bias} \\n\")"
   ]
  },
  {
   "attachments": {},
   "cell_type": "markdown",
   "metadata": {},
   "source": [
    "# Model layers\n",
    "FashionMNISTモデルのレイヤーを分解してみましょう。それを説明するために、サイズ28x28の3枚の画像からなるミニバッチのサンプルを取り、それをネットワークに通すとどうなるかを見ていきます。"
   ]
  },
  {
   "cell_type": "code",
   "execution_count": 7,
   "metadata": {},
   "outputs": [
    {
     "name": "stdout",
     "output_type": "stream",
     "text": [
      "torch.Size([3, 28, 28])\n"
     ]
    }
   ],
   "source": [
    "input_image = torch.rand(3,28,28)\n",
    "print(input_image.size())"
   ]
  },
  {
   "attachments": {},
   "cell_type": "markdown",
   "metadata": {},
   "source": [
    "# nn.Flatten\n",
    "nn.Flatten層を初期化して、各2D 28x28画像を784個のピクセル値からなる連続した配列に変換します（ミニバッチの次元（dim=0）は維持されます）。各ピクセルは、ニューラルネットワークの入力層に渡されます。"
   ]
  },
  {
   "cell_type": "code",
   "execution_count": 8,
   "metadata": {},
   "outputs": [
    {
     "name": "stdout",
     "output_type": "stream",
     "text": [
      "torch.Size([3, 784])\n"
     ]
    }
   ],
   "source": [
    "flatten = nn.Flatten()\n",
    "flat_image = flatten(input_image)\n",
    "print(flat_image.size())"
   ]
  },
  {
   "attachments": {},
   "cell_type": "markdown",
   "metadata": {},
   "source": [
    "# nn.Linear\n",
    "線形層は、保存されている重みとバイアスを使用して入力に線形変換を適用するモジュールです。入力層の各ピクセルのゲイズケール値は、計算のために隠れ層のニューロンに接続されます。変換に使われる計算式は\n",
    "\n",
    " ${{weight * input + bias}} $."
   ]
  },
  {
   "cell_type": "code",
   "execution_count": 9,
   "metadata": {},
   "outputs": [
    {
     "name": "stdout",
     "output_type": "stream",
     "text": [
      "torch.Size([3, 20])\n"
     ]
    }
   ],
   "source": [
    "layer1 = nn.Linear(in_features=28*28, out_features=20)\n",
    "hidden1 = layer1(flat_image)\n",
    "print(hidden1.size())"
   ]
  },
  {
   "attachments": {},
   "cell_type": "markdown",
   "metadata": {},
   "source": [
    "# nn.ReLU\n",
    "非線形活性化とは、モデルの入力と出力の間の複雑なマッピングを作成するものです。線形変換の後に適用して非線形性を導入することで、ニューラルネットワークが様々な現象を学習するのに役立ちます。このモデルでは、線形層の間にnn.ReLUを使用していますが、他にもモデルに非線形性を導入するための活性化関数が存在します。\n",
    "\n",
    "ReLU活性化関数は、線形層の計算から出力を取り出し、負の値をゼロに置き換えます。\n",
    "\n",
    "Linear output: ${ x = {weight * input + bias}} $.  \n",
    "ReLU:  $f(x)= \n",
    "\\begin{cases}\n",
    "    0, & \\text{if } x < 0\\\\\n",
    "    x, & \\text{if } x\\geq 0\\\\\n",
    "\\end{cases}\n",
    "$"
   ]
  },
  {
   "cell_type": "code",
   "execution_count": 10,
   "metadata": {},
   "outputs": [
    {
     "name": "stdout",
     "output_type": "stream",
     "text": [
      "Before ReLU: tensor([[-0.1597, -0.0976, -0.1879, -0.1390, -0.2916, -0.0340, -0.0307, -0.0887,\n",
      "          0.2640,  0.6074,  0.1367,  0.0716,  0.3189,  0.5606, -0.4308, -0.6087,\n",
      "         -0.3813,  0.1452, -0.4784,  0.1390],\n",
      "        [-0.1767, -0.2061,  0.0837, -0.1397, -0.2316, -0.2682, -0.0190,  0.1268,\n",
      "          0.4273,  0.8158,  0.1763,  0.4070,  0.4186,  0.4841, -0.2449, -0.8118,\n",
      "         -0.6087, -0.1698, -0.2118, -0.0985],\n",
      "        [ 0.0628, -0.1324, -0.1085,  0.0373, -0.1707, -0.2249, -0.0337, -0.2461,\n",
      "          0.4387,  0.5656,  0.1435, -0.0477,  0.2048,  0.5002, -0.2580, -1.0221,\n",
      "         -0.1040, -0.1856, -0.8341,  0.0564]], grad_fn=<AddmmBackward0>)\n",
      "\n",
      "\n",
      "After ReLU: tensor([[0.0000, 0.0000, 0.0000, 0.0000, 0.0000, 0.0000, 0.0000, 0.0000, 0.2640,\n",
      "         0.6074, 0.1367, 0.0716, 0.3189, 0.5606, 0.0000, 0.0000, 0.0000, 0.1452,\n",
      "         0.0000, 0.1390],\n",
      "        [0.0000, 0.0000, 0.0837, 0.0000, 0.0000, 0.0000, 0.0000, 0.1268, 0.4273,\n",
      "         0.8158, 0.1763, 0.4070, 0.4186, 0.4841, 0.0000, 0.0000, 0.0000, 0.0000,\n",
      "         0.0000, 0.0000],\n",
      "        [0.0628, 0.0000, 0.0000, 0.0373, 0.0000, 0.0000, 0.0000, 0.0000, 0.4387,\n",
      "         0.5656, 0.1435, 0.0000, 0.2048, 0.5002, 0.0000, 0.0000, 0.0000, 0.0000,\n",
      "         0.0000, 0.0564]], grad_fn=<ReluBackward0>)\n"
     ]
    }
   ],
   "source": [
    "print(f\"Before ReLU: {hidden1}\\n\\n\")\n",
    "hidden1 = nn.ReLU()(hidden1)\n",
    "print(f\"After ReLU: {hidden1}\")"
   ]
  },
  {
   "attachments": {},
   "cell_type": "markdown",
   "metadata": {},
   "source": [
    "# nn.Sequential\n",
    "nn.Sequentialは、モジュールの順序付きコンテナです。データは定義されたのと同じ順序ですべてのモジュールに渡されます。シーケンシャルコンテナを使って、seq_modulesのように素早くネットワークを組むことができます。"
   ]
  },
  {
   "cell_type": "code",
   "execution_count": 11,
   "metadata": {},
   "outputs": [],
   "source": [
    "seq_modules = nn.Sequential(\n",
    "    flatten,\n",
    "    layer1,\n",
    "    nn.ReLU(),\n",
    "    nn.Linear(20, 10)\n",
    ")\n",
    "input_image = torch.rand(3,28,28)\n",
    "logits = seq_modules(input_image)"
   ]
  },
  {
   "attachments": {},
   "cell_type": "markdown",
   "metadata": {},
   "source": [
    "# nn.Softmax\n",
    "ニューラルネットワークの最後の線形層は、logits - [-infty, infty]の生値を返し、nn.Softmaxモジュールに渡される。Softmax活性化関数は、ニューラルネットワークからの出力の確率を計算するために使用されます。これは、ニューラルネットワークの出力層でのみ使用されます。dimパラメータは、結果の値の合計が1になる次元を示します。最も高い確率を持つノードが目的の出力を予測します。"
   ]
  },
  {
   "cell_type": "code",
   "execution_count": 12,
   "metadata": {},
   "outputs": [],
   "source": [
    "softmax = nn.Softmax(dim=1)\n",
    "pred_probab = softmax(logits)"
   ]
  },
  {
   "attachments": {},
   "cell_type": "markdown",
   "metadata": {},
   "source": [
    "# Model parameter\n",
    "ニューラルネットワークの多くの層はパラメータ化されており、学習中に最適化される重みとバイアスが関連付けられています。nn.Moduleをサブクラス化すると、モデルオブジェクト内で定義されたすべてのフィールドが自動的に追跡され、モデルのparameters()やnamed_parameters()メソッドを使用してすべてのパラメータにアクセスできるようになりま\n",
    "\n",
    "この例では、各パラメーターに対して反復処理を行い、そのサイズと値のプレビューを表示しています。"
   ]
  },
  {
   "cell_type": "code",
   "execution_count": 13,
   "metadata": {},
   "outputs": [
    {
     "name": "stdout",
     "output_type": "stream",
     "text": [
      "Model structure:  NeuralNetwork(\n",
      "  (flatten): Flatten(start_dim=1, end_dim=-1)\n",
      "  (linear_relu_stack): Sequential(\n",
      "    (0): Linear(in_features=784, out_features=512, bias=True)\n",
      "    (1): ReLU()\n",
      "    (2): Linear(in_features=512, out_features=512, bias=True)\n",
      "    (3): ReLU()\n",
      "    (4): Linear(in_features=512, out_features=10, bias=True)\n",
      "    (5): ReLU()\n",
      "  )\n",
      ") \n",
      "\n",
      "\n",
      "Layer: linear_relu_stack.0.weight | Size: torch.Size([512, 784]) | Values : tensor([[-0.0178,  0.0106, -0.0004,  ..., -0.0083,  0.0151,  0.0128],\n",
      "        [ 0.0346, -0.0181, -0.0210,  ...,  0.0189, -0.0036, -0.0006]],\n",
      "       grad_fn=<SliceBackward0>) \n",
      "\n",
      "Layer: linear_relu_stack.0.bias | Size: torch.Size([512]) | Values : tensor([-0.0183, -0.0312], grad_fn=<SliceBackward0>) \n",
      "\n",
      "Layer: linear_relu_stack.2.weight | Size: torch.Size([512, 512]) | Values : tensor([[-4.0978e-02,  3.4463e-04,  1.8284e-02,  ..., -3.5857e-02,\n",
      "          1.9479e-02, -9.7720e-03],\n",
      "        [ 8.2441e-06,  1.0563e-02,  1.4524e-02,  ..., -8.0478e-03,\n",
      "         -2.4539e-02, -8.9006e-03]], grad_fn=<SliceBackward0>) \n",
      "\n",
      "Layer: linear_relu_stack.2.bias | Size: torch.Size([512]) | Values : tensor([0.0082, 0.0271], grad_fn=<SliceBackward0>) \n",
      "\n",
      "Layer: linear_relu_stack.4.weight | Size: torch.Size([10, 512]) | Values : tensor([[ 0.0069,  0.0311,  0.0097,  ..., -0.0280, -0.0250, -0.0065],\n",
      "        [ 0.0388,  0.0167,  0.0152,  ...,  0.0031, -0.0285, -0.0148]],\n",
      "       grad_fn=<SliceBackward0>) \n",
      "\n",
      "Layer: linear_relu_stack.4.bias | Size: torch.Size([10]) | Values : tensor([0.0061, 0.0290], grad_fn=<SliceBackward0>) \n",
      "\n"
     ]
    }
   ],
   "source": [
    "print(\"Model structure: \", model, \"\\n\\n\")\n",
    "\n",
    "for name, param in model.named_parameters():\n",
    "    print(f\"Layer: {name} | Size: {param.size()} | Values : {param[:2]} \\n\")"
   ]
  }
 ],
 "metadata": {
  "kernelspec": {
   "display_name": "Deeplearning",
   "language": "python",
   "name": "python3"
  },
  "language_info": {
   "codemirror_mode": {
    "name": "ipython",
    "version": 3
   },
   "file_extension": ".py",
   "mimetype": "text/x-python",
   "name": "python",
   "nbconvert_exporter": "python",
   "pygments_lexer": "ipython3",
   "version": "3.10.11"
  },
  "orig_nbformat": 4
 },
 "nbformat": 4,
 "nbformat_minor": 2
}
