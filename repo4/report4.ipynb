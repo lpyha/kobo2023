{
 "cells": [
  {
   "attachments": {},
   "cell_type": "markdown",
   "metadata": {},
   "source": [
    "# 第四回レポート課題\n",
    "## 1. 下記のサンプルコードを実行してMNISTデータを学習してください。\n",
    "simple_convnet.pyの実装も見てみましょう。"
   ]
  },
  {
   "attachments": {},
   "cell_type": "markdown",
   "metadata": {},
   "source": [
    "## 2. 今後は実践編ではPytorchを使って行きます。公式のチュートリアルをやってください"
   ]
  },
  {
   "attachments": {},
   "cell_type": "markdown",
   "metadata": {},
   "source": []
  }
 ],
 "metadata": {
  "language_info": {
   "name": "python"
  },
  "orig_nbformat": 4
 },
 "nbformat": 4,
 "nbformat_minor": 2
}
