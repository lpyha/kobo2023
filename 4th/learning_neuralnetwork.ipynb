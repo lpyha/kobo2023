{
 "cells": [
  {
   "attachments": {},
   "cell_type": "markdown",
   "metadata": {},
   "source": [
    "## 損失関数 loss function\n",
    "### 2乗和誤差 sum of squared error\n",
    "$E = \\frac{1}{2} \\sum_{k} (y_{k} - t_{k})^2$\\\n",
    "ここで$y_{k}$がニューラルネットワークの出力、$t_{k}$を教師データを表す。$k$はデータの次元数。\\\n",
    "手書き文字認識では、ニューラルネットワークの出力は確率として解釈し、$t_{k}$は教師データの正負としている。\\\n",
    "正解ラベルを1、それ以外を0とする表現をone=hot表現と呼ぶ。\\\n"
   ]
  },
  {
   "cell_type": "code",
   "execution_count": null,
   "metadata": {},
   "outputs": [],
   "source": [
    "import numpy as np\n",
    "\n",
    "def sum_squared_error(y, t):\n",
    "    return 0.5 * np.sum((y-t)**2)"
   ]
  },
  {
   "attachments": {},
   "cell_type": "markdown",
   "metadata": {},
   "source": [
    "#### 交差エントロピー誤差 cross entropy error\n",
    "$E = - \\sum_{k} t_{k}\\log y_{k}$\\\n",
    "正解ラベルとなる$t_{k}$はone-hot表現とする。"
   ]
  },
  {
   "cell_type": "code",
   "execution_count": null,
   "metadata": {},
   "outputs": [],
   "source": [
    "def cross_entropy_error(y, t):\n",
    "    '''\n",
    "    引数y, tはnumpy配列とする。\n",
    "    np.logの計算時、微小な値であるdeltaを足す\n",
    "    np.log(0)の場合-infとなるのでそれを防止する\n",
    "    '''\n",
    "    delta = 1e-7\n",
    "    return -np.sum(t * np.log(y+ delta))"
   ]
  },
  {
   "attachments": {},
   "cell_type": "markdown",
   "metadata": {},
   "source": [
    "#### ミニバッチ学習\n",
    "機械学習は訓練データに対する損失関数を求め、その値を小さくするパラメーターを探す\\\n",
    "損失関数はすべての訓練データの損失関数の和を指標とする\\\n",
    "訓練データ数が多い場合はデータの一部を取り出し、データの全体の近似として利用する\\\n",
    "このような学習法をミニバッチ学習という。"
   ]
  },
  {
   "cell_type": "code",
   "execution_count": null,
   "metadata": {},
   "outputs": [],
   "source": [
    "import sys\n",
    "import os\n",
    "#sys.path.append(os.pardir)\n",
    "import numpy as np\n",
    "from mnist import load_mnist\n",
    "\n",
    "(x_train, t_train), (x_test, t_test) = \\\n",
    "    load_mnist(normalize=True, one_hot_label=True)\n",
    "    \n",
    "print(x_train.shape)\n",
    "print(x_test.shape)\n",
    "\n",
    "train_size = x_train.shape[0]\n",
    "batch_size = 10\n",
    "# 指定された数字の中からランダムに数を取り出すことができる\n",
    "batch_mask = np.random.choice(train_size, batch_size)\n",
    "x_batch = x_train[batch_mask]\n",
    "t_batch = t_train[batch_mask]"
   ]
  }
 ],
 "metadata": {
  "kernelspec": {
   "display_name": "Deeplearning",
   "language": "python",
   "name": "python3"
  },
  "language_info": {
   "codemirror_mode": {
    "name": "ipython",
    "version": 3
   },
   "file_extension": ".py",
   "mimetype": "text/x-python",
   "name": "python",
   "nbconvert_exporter": "python",
   "pygments_lexer": "ipython3",
   "version": "3.10.11"
  },
  "orig_nbformat": 4
 },
 "nbformat": 4,
 "nbformat_minor": 2
}
