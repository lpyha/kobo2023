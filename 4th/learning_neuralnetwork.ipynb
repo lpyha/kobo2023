{
 "cells": [
  {
   "attachments": {},
   "cell_type": "markdown",
   "metadata": {},
   "source": [
    "## 損失関数 loss function\n",
    "### 2乗和誤差 sum of squared error\n",
    "$E = \\frac{1}{2} \\sum_{k} (y_{k} - t_{k})^2$\\\n",
    "ここで$y_{k}$がニューラルネットワークの出力、$t_{k}$を教師データを表す。$k$はデータの次元数。\\\n",
    "手書き文字認識では、ニューラルネットワークの出力は確率として解釈し、$t_{k}$は教師データの正負としている。\\\n",
    "正解ラベルを1、それ以外を0とする表現をone=hot表現と呼ぶ。\\\n"
   ]
  },
  {
   "cell_type": "code",
   "execution_count": null,
   "metadata": {},
   "outputs": [],
   "source": [
    "import numpy as np\n",
    "\n",
    "def sum_squared_error(y, t):\n",
    "    return 0.5 * np.sum((y-t)**2)"
   ]
  },
  {
   "attachments": {},
   "cell_type": "markdown",
   "metadata": {},
   "source": [
    "#### 交差エントロピー誤差 cross entropy error\n",
    "$E = - \\sum_{k} t_{k}\\log y_{k}$\\\n",
    "正解ラベルとなる$t_{k}$はone-hot表現とする。"
   ]
  },
  {
   "cell_type": "code",
   "execution_count": null,
   "metadata": {},
   "outputs": [],
   "source": [
    "def cross_entropy_error(y, t):\n",
    "    delta = 1e-7\n",
    "    return -np.sum(t * np.log(y+ delta))"
   ]
  },
  {
   "cell_type": "code",
   "execution_count": null,
   "metadata": {},
   "outputs": [],
   "source": []
  }
 ],
 "metadata": {
  "language_info": {
   "name": "python"
  },
  "orig_nbformat": 4
 },
 "nbformat": 4,
 "nbformat_minor": 2
}
