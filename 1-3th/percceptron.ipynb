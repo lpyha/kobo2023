{
 "cells": [
  {
   "cell_type": "code",
   "execution_count": 3,
   "metadata": {},
   "outputs": [],
   "source": [
    "import numpy as np\n",
    "import matplotlib.pylab as plt\n",
    "\n",
    "def AND(x1, x2):\n",
    "    '''\n",
    "        x1  x2  y\\n\n",
    "        0   0   0\\n\n",
    "        1   0   0\\n\n",
    "        0   1   0\\n\n",
    "        1   1   1\\n\n",
    "    '''\n",
    "    x = np.array([x1, x2])\n",
    "    w = np.array([0.5, 0.5])\n",
    "    b = -0.7\n",
    "    tmp = np.sum(w*x) + b\n",
    "    return 0 if tmp <= 0 else 1\n",
    "    \n",
    "def NAND(x1, x2):\n",
    "    '''\n",
    "        x1  x2  y\\n\n",
    "        0   0   1\\n\n",
    "        1   0   1\\n\n",
    "        0   1   1\\n\n",
    "        1   1   0\\n\n",
    "    '''\n",
    "    x = np.array([x1, x2])\n",
    "    w = np.array([-0.5, -0.5])\n",
    "    b = 0.7\n",
    "    tmp = np.sum(w*x) + b\n",
    "    return 0 if tmp <= 0 else 1\n",
    "    \n",
    "    \n",
    "def OR(x1, x2):\n",
    "    '''\n",
    "        x1  x2  y\\n\n",
    "        0   0   0\\n\n",
    "        1   0   1\\n\n",
    "        0   1   1\\n\n",
    "        1   1   1\\n\n",
    "    '''\n",
    "    x = np.array([x1, x2])\n",
    "    w = np.array([0.5, 0.5])\n",
    "    b = -0.2\n",
    "    tmp = np.sum(w*x) + b\n",
    "    return 0 if tmp <= 0 else 1\n",
    "    \n",
    "def XOR(x1, x2):\n",
    "    '''\n",
    "        x1  x2  y\\n\n",
    "        0   0   0\\n\n",
    "        1   0   1\\n\n",
    "        0   1   1\\n\n",
    "        1   1   0\\n\n",
    "    '''\n",
    "    s1 = NAND(x1, x2)\n",
    "    s2 = OR(x1, x2)\n",
    "    return AND(s1, s2)\n"
   ]
  },
  {
   "attachments": {},
   "cell_type": "markdown",
   "metadata": {},
   "source": [
    "## NAND, AND, OR, XOR出力確認"
   ]
  },
  {
   "cell_type": "code",
   "execution_count": 4,
   "metadata": {},
   "outputs": [
    {
     "name": "stdout",
     "output_type": "stream",
     "text": [
      "NAND\n",
      "(0, 0) -> 1\n",
      "(1, 0) -> 1\n",
      "(0, 1) -> 1\n",
      "(1, 1) -> 0\n",
      "AND\n",
      "(0, 0) -> 0\n",
      "(1, 0) -> 0\n",
      "(0, 1) -> 0\n",
      "(1, 1) -> 1\n",
      "OR\n",
      "(0, 0) -> 0\n",
      "(1, 0) -> 1\n",
      "(0, 1) -> 1\n",
      "(1, 1) -> 1\n",
      "XOR\n",
      "(0, 0) -> 0\n",
      "(1, 0) -> 1\n",
      "(0, 1) -> 1\n",
      "(1, 1) -> 0\n"
     ]
    }
   ],
   "source": [
    "print(\"NAND\")\n",
    "for xs in [(0, 0), (1,0), (0, 1), (1, 1)]:\n",
    "    y = NAND(xs[0], xs[1])\n",
    "    print(str(xs) + \" -> \" + str(y))\n",
    "\n",
    "print(\"AND\")\n",
    "for xs in [(0, 0), (1,0), (0, 1), (1, 1)]:\n",
    "    y = AND(xs[0], xs[1])\n",
    "    print(str(xs) + \" -> \" + str(y))\n",
    "\n",
    "\n",
    "print(\"OR\")\n",
    "for xs in [(0, 0), (1,0), (0, 1), (1, 1)]:\n",
    "    y = OR(xs[0], xs[1])\n",
    "    print(str(xs) + \" -> \" + str(y))\n",
    "\n",
    "print(\"XOR\")\n",
    "for xs in [(0, 0), (1,0), (0, 1), (1, 1)]:\n",
    "    y = XOR(xs[0], xs[1])\n",
    "    print(str(xs) + \" -> \" + str(y))"
   ]
  }
 ],
 "metadata": {
  "kernelspec": {
   "display_name": "Python 3",
   "language": "python",
   "name": "python3"
  },
  "language_info": {
   "codemirror_mode": {
    "name": "ipython",
    "version": 3
   },
   "file_extension": ".py",
   "mimetype": "text/x-python",
   "name": "python",
   "nbconvert_exporter": "python",
   "pygments_lexer": "ipython3",
   "version": "3.10.11"
  },
  "orig_nbformat": 4
 },
 "nbformat": 4,
 "nbformat_minor": 2
}
