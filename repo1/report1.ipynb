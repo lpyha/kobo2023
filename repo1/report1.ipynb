{
 "cells": [
  {
   "attachments": {},
   "cell_type": "markdown",
   "metadata": {},
   "source": [
    "# 第一回レポート課題\n",
    "## 1.AND回路，NAND回路，OR回路を単純パーセプトロンにより表現する関数を実装し，真理値表通り，出力されるか確認して下さい．\n",
    "関数名は各々，AND(x1, x2), NAND(x1, x2), OR(x1, x2)として，1か０を引数に取れるようにして下さい．\n",
    "## 2.上記で実装した関数の組み合わせにより，XOR回路を実装し，真理値表通り，出力されるか確認して下さい．\n",
    "関数名は，XOR(x1, x2)として，，1か０を引数に取れるようにして下さい．"
   ]
  },
  {
   "cell_type": "code",
   "execution_count": 1,
   "metadata": {},
   "outputs": [],
   "source": [
    "import numpy as np\n",
    "import matplotlib.pylab as plt\n",
    "\n",
    "def AND(x1, x2):\n",
    "    '''\n",
    "        x1  x2  y\\n\n",
    "        0   0   0\\n\n",
    "        1   0   0\\n\n",
    "        0   1   0\\n\n",
    "        1   1   1\\n\n",
    "    '''\n",
    "    x = np.array([x1, x2])\n",
    "    w = np.array([0.5, 0.5])\n",
    "    b = -0.7\n",
    "    tmp = np.sum(w*x) + b\n",
    "    return 0 if tmp <= 0 else 1\n",
    "    \n",
    "def NAND(x1, x2):\n",
    "    '''\n",
    "        x1  x2  y\\n\n",
    "        0   0   1\\n\n",
    "        1   0   1\\n\n",
    "        0   1   1\\n\n",
    "        1   1   0\\n\n",
    "    '''\n",
    "    x = np.array([x1, x2])\n",
    "    w = np.array([-0.5, -0.5])\n",
    "    b = 0.7\n",
    "    tmp = np.sum(w*x) + b\n",
    "    return 0 if tmp <= 0 else 1\n",
    "    \n",
    "    \n",
    "def OR(x1, x2):\n",
    "    '''\n",
    "        x1  x2  y\\n\n",
    "        0   0   0\\n\n",
    "        1   0   1\\n\n",
    "        0   1   1\\n\n",
    "        1   1   1\\n\n",
    "    '''\n",
    "    x = np.array([x1, x2])\n",
    "    w = np.array([0.5, 0.5])\n",
    "    b = -0.2\n",
    "    tmp = np.sum(w*x) + b\n",
    "    return 0 if tmp <= 0 else 1\n",
    "    \n",
    "def XOR(x1, x2):\n",
    "    '''\n",
    "        x1  x2  y\\n\n",
    "        0   0   0\\n\n",
    "        1   0   1\\n\n",
    "        0   1   1\\n\n",
    "        1   1   0\\n\n",
    "    '''\n",
    "    s1 = NAND(x1, x2)\n",
    "    s2 = OR(x1, x2)\n",
    "    return AND(s1, s2)\n"
   ]
  },
  {
   "attachments": {},
   "cell_type": "markdown",
   "metadata": {},
   "source": [
    "### NAND, AND, OR, XOR出力確認"
   ]
  },
  {
   "cell_type": "code",
   "execution_count": 2,
   "metadata": {},
   "outputs": [
    {
     "name": "stdout",
     "output_type": "stream",
     "text": [
      "NAND\n",
      "(0, 0) -> 1\n",
      "(1, 0) -> 1\n",
      "(0, 1) -> 1\n",
      "(1, 1) -> 0\n",
      "AND\n",
      "(0, 0) -> 0\n",
      "(1, 0) -> 0\n",
      "(0, 1) -> 0\n",
      "(1, 1) -> 1\n",
      "OR\n",
      "(0, 0) -> 0\n",
      "(1, 0) -> 1\n",
      "(0, 1) -> 1\n",
      "(1, 1) -> 1\n",
      "XOR\n",
      "(0, 0) -> 0\n",
      "(1, 0) -> 1\n",
      "(0, 1) -> 1\n",
      "(1, 1) -> 0\n"
     ]
    }
   ],
   "source": [
    "print(\"NAND\")\n",
    "for xs in [(0, 0), (1,0), (0, 1), (1, 1)]:\n",
    "    y = NAND(xs[0], xs[1])\n",
    "    print(str(xs) + \" -> \" + str(y))\n",
    "\n",
    "print(\"AND\")\n",
    "for xs in [(0, 0), (1,0), (0, 1), (1, 1)]:\n",
    "    y = AND(xs[0], xs[1])\n",
    "    print(str(xs) + \" -> \" + str(y))\n",
    "\n",
    "\n",
    "print(\"OR\")\n",
    "for xs in [(0, 0), (1,0), (0, 1), (1, 1)]:\n",
    "    y = OR(xs[0], xs[1])\n",
    "    print(str(xs) + \" -> \" + str(y))\n",
    "\n",
    "print(\"XOR\")\n",
    "for xs in [(0, 0), (1,0), (0, 1), (1, 1)]:\n",
    "    y = XOR(xs[0], xs[1])\n",
    "    print(str(xs) + \" -> \" + str(y))"
   ]
  },
  {
   "attachments": {},
   "cell_type": "markdown",
   "metadata": {},
   "source": [
    "## 3.活性化関数であるSigmoid関数とSoftmax関数をpythonで実装して下さい．\n",
    "Sigmoid関数は次の課題でそのまま使用するので、Numpyを入力としてください"
   ]
  },
  {
   "cell_type": "code",
   "execution_count": 3,
   "metadata": {},
   "outputs": [],
   "source": [
    "def sigmoid_func(x):\n",
    "    return 1 / (1 + np.exp(-x))\n",
    "\n",
    "def softmax_func(a):\n",
    "    c = np.max(a)\n",
    "    exp_a = np.exp(a - c)   # オーバーフロー対策\n",
    "    sum_exp_a = np.sum(exp_a)\n",
    "    return exp_a / sum_exp_a"
   ]
  },
  {
   "attachments": {},
   "cell_type": "markdown",
   "metadata": {},
   "source": [
    "## 4.3層マルチパーセプトロンによるNNの実装を行い、出力が正しいか確認してください．\n",
    "\n",
    "下記のサンプルコードにおけるforward部分を実装してみてください. 中間層の活性化関数にはSigmoid関数、出力層の関数にはSoftmax関数を使ってください。\n"
   ]
  },
  {
   "cell_type": "code",
   "execution_count": 5,
   "metadata": {},
   "outputs": [
    {
     "name": "stdout",
     "output_type": "stream",
     "text": [
      "[[0.40625907 0.59374093]]\n"
     ]
    }
   ],
   "source": [
    "def identify_func(x):\n",
    "    return x\n",
    "\n",
    "def init_network():\n",
    "    network = {}\n",
    "    network['W1'] = np.array([[0.1, 0.3, 0.5], [0.2, 0.4, 0.6]])\n",
    "    network['b1'] = np.array([[0.1, 0.2, 0.3]])\n",
    "    network['W2'] = np.array([[0.1, 0.4], [0.2, 0.5], [0.3, 0.6]])\n",
    "    network['b2'] = np.array([[0.1, 0.2]])\n",
    "    network['W3'] = np.array([[0.1, 0.3], [0.2, 0.4]])\n",
    "    network['b3'] = np.array([0.1, 0.2])\n",
    "    return network\n",
    "    \n",
    "def forward(network, x):\n",
    "    W1, W2, W3 = network['W1'], network['W2'], network['W3']\n",
    "    b1, b2, b3 = network['b1'], network['b2'], network['b3']\n",
    "    \n",
    "    # layer1\n",
    "    a1 = np.dot(x, W1) + b1\n",
    "    z1 = sigmoid_func(a1)\n",
    "    \n",
    "    # layer2\n",
    "    a2 = np.dot(z1, W2) + b2\n",
    "    z2 = sigmoid_func(a2)\n",
    "    \n",
    "    # layer3 出力層はsoftmaxで実装\n",
    "    a3 = np.dot(z2, W3) + b3\n",
    "    y = softmax_func(a3)\n",
    "    return y\n",
    "\n",
    "network = init_network()\n",
    "x = np.array([1.0, 0.5])\n",
    "y = forward(network, x)\n",
    "print(y)"
   ]
  },
  {
   "attachments": {},
   "cell_type": "markdown",
   "metadata": {},
   "source": [
    "## 5.バッチ処理の行い方についてサンプルコードを実行し、扱い方のイメージを掴んでください．\n",
    "複数の入力を逐次的に処理します"
   ]
  },
  {
   "cell_type": "code",
   "execution_count": 13,
   "metadata": {},
   "outputs": [
    {
     "name": "stdout",
     "output_type": "stream",
     "text": [
      "[[0.05076106 0.07377722]\n",
      " [0.05082574 0.07398542]\n",
      " [0.05102675 0.07463759]\n",
      " [0.05098291 0.07449584]\n",
      " [0.05081676 0.07395643]\n",
      " [0.05075313 0.0737522 ]\n",
      " [0.05102361 0.07462745]\n",
      " [0.05077054 0.07380735]]\n"
     ]
    }
   ],
   "source": [
    "network = init_network()\n",
    "\n",
    "batch_size = 16 # batchサイズ\n",
    "\n",
    "x=np.random.rand(1000,2)\n",
    "for i in range(0,len(x),batch_size):\n",
    "    x_batch = x[i:i+batch_size]\n",
    "    y_batch = forward(network,x_batch)\n",
    "\n",
    "print(y_batch)\n"
   ]
  }
 ],
 "metadata": {
  "kernelspec": {
   "display_name": "DeepLearning",
   "language": "python",
   "name": "python3"
  },
  "language_info": {
   "codemirror_mode": {
    "name": "ipython",
    "version": 3
   },
   "file_extension": ".py",
   "mimetype": "text/x-python",
   "name": "python",
   "nbconvert_exporter": "python",
   "pygments_lexer": "ipython3",
   "version": "3.10.11"
  },
  "orig_nbformat": 4
 },
 "nbformat": 4,
 "nbformat_minor": 2
}
