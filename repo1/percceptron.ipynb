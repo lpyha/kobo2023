{
 "cells": [
  {
   "cell_type": "code",
   "execution_count": 10,
   "metadata": {},
   "outputs": [],
   "source": [
    "import numpy as np\n",
    "import matplotlib.pylab as plt\n",
    "\n",
    "def AND(x1, x2):\n",
    "    '''\n",
    "        x1  x2  y\\n\n",
    "        0   0   0\\n\n",
    "        1   0   0\\n\n",
    "        0   1   0\\n\n",
    "        1   1   1\\n\n",
    "    '''\n",
    "    x = np.array([x1, x2])\n",
    "    w = np.array([0.5, 0.5])\n",
    "    b = -0.7\n",
    "    tmp = np.sum(w*x) + b\n",
    "    return 0 if tmp <= 0 else 1\n",
    "    \n",
    "def NAND(x1, x2):\n",
    "    '''\n",
    "        x1  x2  y\\n\n",
    "        0   0   1\\n\n",
    "        1   0   1\\n\n",
    "        0   1   1\\n\n",
    "        1   1   0\\n\n",
    "    '''\n",
    "    x = np.array([x1, x2])\n",
    "    w = np.array([-0.5, -0.5])\n",
    "    b = 0.7\n",
    "    tmp = np.sum(w*x) + b\n",
    "    return 0 if tmp <= 0 else 1\n",
    "    \n",
    "    \n",
    "def OR(x1, x2):\n",
    "    '''\n",
    "        x1  x2  y\\n\n",
    "        0   0   0\\n\n",
    "        1   0   1\\n\n",
    "        0   1   1\\n\n",
    "        1   1   1\\n\n",
    "    '''\n",
    "    x = np.array([x1, x2])\n",
    "    w = np.array([0.5, 0.5])\n",
    "    b = -0.2\n",
    "    tmp = np.sum(w*x) + b\n",
    "    return 0 if tmp <= 0 else 1\n",
    "    \n",
    "def XOR(x1, x2):\n",
    "    '''\n",
    "        x1  x2  y\\n\n",
    "        0   0   0\\n\n",
    "        1   0   1\\n\n",
    "        0   1   1\\n\n",
    "        1   1   0\\n\n",
    "    '''\n",
    "    s1 = NAND(x1, x2)\n",
    "    s2 = OR(x1, x2)\n",
    "    return AND(s1, s2)\n"
   ]
  },
  {
   "attachments": {},
   "cell_type": "markdown",
   "metadata": {},
   "source": [
    "## NAND, AND, OR, XOR出力確認"
   ]
  },
  {
   "cell_type": "code",
   "execution_count": 34,
   "metadata": {},
   "outputs": [
    {
     "name": "stdout",
     "output_type": "stream",
     "text": [
      "NAND\n",
      "(0, 0) -> 1\n",
      "(1, 0) -> 1\n",
      "(0, 1) -> 1\n",
      "(1, 1) -> 0\n",
      "AND\n",
      "(0, 0) -> 0\n",
      "(1, 0) -> 0\n",
      "(0, 1) -> 0\n",
      "(1, 1) -> 1\n",
      "OR\n",
      "(0, 0) -> 0\n",
      "(1, 0) -> 1\n",
      "(0, 1) -> 1\n",
      "(1, 1) -> 1\n",
      "XOR\n",
      "(0, 0) -> 0\n",
      "(1, 0) -> 1\n",
      "(0, 1) -> 1\n",
      "(1, 1) -> 0\n"
     ]
    }
   ],
   "source": [
    "print(\"NAND\")\n",
    "for xs in [(0, 0), (1,0), (0, 1), (1, 1)]:\n",
    "    y = NAND(xs[0], xs[1])\n",
    "    print(str(xs) + \" -> \" + str(y))\n",
    "\n",
    "print(\"AND\")\n",
    "for xs in [(0, 0), (1,0), (0, 1), (1, 1)]:\n",
    "    y = AND(xs[0], xs[1])\n",
    "    print(str(xs) + \" -> \" + str(y))\n",
    "\n",
    "\n",
    "print(\"OR\")\n",
    "for xs in [(0, 0), (1,0), (0, 1), (1, 1)]:\n",
    "    y = OR(xs[0], xs[1])\n",
    "    print(str(xs) + \" -> \" + str(y))\n",
    "\n",
    "print(\"XOR\")\n",
    "for xs in [(0, 0), (1,0), (0, 1), (1, 1)]:\n",
    "    y = XOR(xs[0], xs[1])\n",
    "    print(str(xs) + \" -> \" + str(y))"
   ]
  },
  {
   "attachments": {},
   "cell_type": "markdown",
   "metadata": {},
   "source": [
    "## Sigmoid関数の実装\n",
    "$h(x) = \\frac{1}{1 + \\exp(-x)}$"
   ]
  },
  {
   "cell_type": "code",
   "execution_count": 32,
   "metadata": {},
   "outputs": [
    {
     "name": "stderr",
     "output_type": "stream",
     "text": [
      "/tmp/ipykernel_116821/3095983265.py:3: DeprecationWarning: `np.int` is a deprecated alias for the builtin `int`. To silence this warning, use `int` by itself. Doing this will not modify any behavior and is safe. When replacing `np.int`, you may wish to use e.g. `np.int64` or `np.int32` to specify the precision. If you wish to review your current use, check the release note link for additional information.\n",
      "Deprecated in NumPy 1.20; for more details and guidance: https://numpy.org/devdocs/release/1.20.0-notes.html#deprecations\n",
      "  return np.array(x>0, dtype=np.int)\n"
     ]
    }
   ],
   "source": [
    "def step_func(x):\n",
    "    '''step関数、入力が0を超えたら1を出力、それ以外は0を出力'''\n",
    "    return np.array(x>0, dtype=np.int)\n",
    "\n",
    "x = np.arange(-5.0, 5.0, 0.1)\n",
    "y = step_func(x)\n",
    "\n",
    "#plt.plot(x, y)\n",
    "#plt.ylim(-0.1, 1.1)\n",
    "#plt.title(\"step_func\")\n",
    "#plt.show()\n",
    "\n",
    "def sigmoid_func(x):\n",
    "    return 1 / (1 + np.exp(-x))\n",
    "\n",
    "y = sigmoid_func(x)\n",
    "\n",
    "#plt.plot(x, y)\n",
    "#plt.ylim(-0.1, 1.1)\n",
    "#plt.title(\"sigmoid_func\")\n",
    "#plt.show()"
   ]
  },
  {
   "attachments": {},
   "cell_type": "markdown",
   "metadata": {},
   "source": [
    "## ReLU(Rectified Linear Unit)関数\n",
    "入力が0を超えていれば、その入力をそのまま出力し、0以下ならば0を出力する関数\n",
    "\n",
    "$h(x)=\\begin{cases}\n",
    "        x & (x > 0)\\\\\n",
    "        0 & (x \\le 0)\n",
    "        \\end{cases}$"
   ]
  },
  {
   "cell_type": "code",
   "execution_count": 33,
   "metadata": {},
   "outputs": [],
   "source": [
    "def relu_func(x):\n",
    "    return np.maximum(0, x)\n",
    "\n",
    "x = np.arange(-5.0, 5.0, 0.1)\n",
    "y = relu_func(x)\n",
    "\n",
    "#plt.plot(x, y)\n",
    "#plt.xlim(-5.1, 5.1)\n",
    "#plt.ylim(-0.1, 5.1)\n",
    "#plt.title(\"relu_func\")\n",
    "#plt.show()"
   ]
  },
  {
   "cell_type": "code",
   "execution_count": 39,
   "metadata": {},
   "outputs": [
    {
     "name": "stdout",
     "output_type": "stream",
     "text": [
      "[[0.31682708 0.69627909]]\n"
     ]
    }
   ],
   "source": [
    "def identify_func(x):\n",
    "    return x\n",
    "\n",
    "def init_network():\n",
    "    network = {}\n",
    "    network['W1'] = np.array([[0.1, 0.3, 0.5], [0.2, 0.4, 0.6]])\n",
    "    network['b1'] = np.array([[0.1, 0.2, 0.3]])\n",
    "    network['W2'] = np.array([[0.1, 0.4], [0.2, 0.5], [0.3, 0.6]])\n",
    "    network['b2'] = np.array([[0.1, 0.2]])\n",
    "    network['W3'] = np.array([[0.1, 0.3], [0.2, 0.4]])\n",
    "    network['b3'] = np.array([0.1, 0.2])\n",
    "    return network\n",
    "    \n",
    "def forward(network, x):\n",
    "    W1, W2, W3 = network['W1'], network['W2'], network['W3']\n",
    "    b1, b2, b3 = network['b1'], network['b2'], network['b3']\n",
    "    \n",
    "    a1 = np.dot(x, W1) + b1\n",
    "    z1 = sigmoid_func(a1)\n",
    "    a2 = np.dot(z1, W2) + b2\n",
    "    z2 = sigmoid_func(a2)\n",
    "    a3 = np.dot(z2, W3) + b3\n",
    "    y = identify_func(a3)\n",
    "    return y\n",
    "\n",
    "network = init_network()\n",
    "x = np.array([1.0, 0.5])\n",
    "y = forward(network, x)\n",
    "print(y)"
   ]
  }
 ],
 "metadata": {
  "kernelspec": {
   "display_name": "Python 3",
   "language": "python",
   "name": "python3"
  },
  "language_info": {
   "codemirror_mode": {
    "name": "ipython",
    "version": 3
   },
   "file_extension": ".py",
   "mimetype": "text/x-python",
   "name": "python",
   "nbconvert_exporter": "python",
   "pygments_lexer": "ipython3",
   "version": "3.10.6"
  },
  "orig_nbformat": 4
 },
 "nbformat": 4,
 "nbformat_minor": 2
}
