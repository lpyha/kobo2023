{
 "cells": [
  {
   "attachments": {},
   "cell_type": "markdown",
   "metadata": {},
   "source": [
    "# 第三回レポート課題\n",
    "## 1. 最もよく使うLoss関数の一つであるSoftmax with lossレイヤーを実装してください．\n",
    "特にBackwardを自分で実装してみてください。式の導出は難しいので省略してokです。"
   ]
  },
  {
   "attachments": {},
   "cell_type": "markdown",
   "metadata": {},
   "source": []
  }
 ],
 "metadata": {
  "language_info": {
   "name": "python"
  },
  "orig_nbformat": 4
 },
 "nbformat": 4,
 "nbformat_minor": 2
}
